{
 "cells": [
  {
   "cell_type": "markdown",
   "id": "591d9738",
   "metadata": {},
   "source": [
    "## Overview\n",
    "Most People don't take into account of their health. They live their life anyhow they won't without thinking of what may happen to them. Will all this people be able to afford their medical cost incase something worse or bad happens to them? The goal of this project is to help predict the insurance cost of an individual and also to advise them on the impact of changing their lifestyle habits on their insurance premiums.\n",
    "\n",
    "\n",
    "## Problem Definition\n",
    "Design and build a model to detect the medical cost of an individual.\n",
    "\n",
    "## Evaluate\n",
    "If we are able to get an accuracy score between 70 and 100 and a lower loss value between 0 and 30, then our model is ready to be shipped into production. Metrics to evaluate our model include:\n",
    "\n",
    "* Mean Absolute Percentage Error (mape)\n",
    "* Mean Absolute Error (mae)\n",
    "* R squared\n",
    "\n",
    "## Algorithms\n",
    "\n",
    "* Machine Learning\n",
    "    1. Linear Regression\n",
    "    2. Random Forest Regressor\n",
    "    3. Decision Tree\n",
    "    4. SVM\n",
    "    5. LightGBM\n",
    "    6. xGBoost\n",
    "    7. Ridge Regression\n",
    "    8. Lassor Regression\n",
    "    9. KNN\n",
    "    \n",
    "## Features\n",
    "* age: age of primary beneficiary\n",
    "* sex: insurance contractor gender, female, male\n",
    "* bmi: Body mass index, providing an understanding of body, weights that are relatively high or low relative to height, objective index of body weight (kg / m ^ 2) using the ratio of height to weight, ideally 18.5 to 24.9\n",
    "* children: Number of children covered by health insurance / Number of dependents\n",
    "* smoker: Smoking.\n",
    "* region: the beneficiary's residential area in the US, northeast, southeast, southwest, northwest.\n",
    "* charges: Indivi.\n",
    "\n",
    "\n",
    "## Deployment\n",
    "* Cloud\n",
    "    * Azure\n",
    "        * Container App\n",
    "        * Resource Group\n",
    "        * Container App Environment\n",
    "        * Managed Identity\n",
    "        * Storage Account\n",
    "        \n",
    "    * Azure DevOps\n",
    "        * Repos\n",
    "        * Azure Yaml Pipelines\n",
    "        * Azure Boards\n",
    "* Others\n",
    "    * Docker | Dockerhub\n",
    "    * Terraform\n",
    "    * FastAPI\n",
    "    \n",
    "## Steps\n",
    "* Explore Dataset\n",
    "* Preprocess Dataset\n",
    "* Build model with ML algorithms\n",
    "* Evaluate Model\n",
    "* Perform Hyperparameter tuning\n",
    "* Select best model\n",
    "* Deploy model"
   ]
  },
  {
   "cell_type": "code",
   "execution_count": 1,
   "id": "974ceb21",
   "metadata": {},
   "outputs": [
    {
     "name": "stdout",
     "output_type": "stream",
     "text": [
      "Collecting lightgbm\n",
      "  Using cached lightgbm-3.3.5-py3-none-manylinux1_x86_64.whl (2.0 MB)\n",
      "Requirement already satisfied: wheel in /home/debrah/Documents/projects/AI/ML/Medical.Cost/env/lib/python3.9/site-packages (from lightgbm) (0.37.1)\n",
      "Requirement already satisfied: numpy in /home/debrah/Documents/projects/AI/ML/Medical.Cost/env/lib/python3.9/site-packages (from lightgbm) (1.22.3)\n",
      "Requirement already satisfied: scikit-learn!=0.22.0 in /home/debrah/Documents/projects/AI/ML/Medical.Cost/env/lib/python3.9/site-packages (from lightgbm) (1.0.2)\n",
      "Requirement already satisfied: scipy in /home/debrah/Documents/projects/AI/ML/Medical.Cost/env/lib/python3.9/site-packages (from lightgbm) (1.6.2)\n",
      "Requirement already satisfied: threadpoolctl>=2.0.0 in /home/debrah/Documents/projects/AI/ML/Medical.Cost/env/lib/python3.9/site-packages (from scikit-learn!=0.22.0->lightgbm) (2.2.0)\n",
      "Requirement already satisfied: joblib>=0.11 in /home/debrah/Documents/projects/AI/ML/Medical.Cost/env/lib/python3.9/site-packages (from scikit-learn!=0.22.0->lightgbm) (1.1.1)\n",
      "Installing collected packages: lightgbm\n",
      "Successfully installed lightgbm-3.3.5\n"
     ]
    }
   ],
   "source": [
    "#Import additional package\n",
    "!pip install lightgbm"
   ]
  },
  {
   "cell_type": "code",
   "execution_count": 7,
   "id": "4d48fc24",
   "metadata": {},
   "outputs": [],
   "source": [
    "## Import core libries\n",
    "import matplotlib.pyplot as plt\n",
    "import seaborn as sns\n",
    "import pandas as pd\n",
    "import numpy as np\n",
    "\n",
    "## Import scikitlearn libries\n",
    "from sklearn.pipeline import Pipeline\n",
    "from sklearn.compose import ColumnTransformer\n",
    "from sklearn.preprocessing import MinMaxScaler\n",
    "from sklearn.preprocessing import OneHotEncoder\n",
    "from sklearn.preprocessing import StandardScaler\n",
    "from sklearn.model_selection import train_test_split\n",
    "\n",
    "## Import Machine Learning Algorithms\n",
    "from sklearn.ensemble import RandomForestRegressor\n",
    "from sklearn.neighbors import KNeighborsRegressor\n",
    "from sklearn.linear_model import LinearRegression\n",
    "from sklearn.tree import DecisionTreeRegressor\n",
    "from sklearn.linear_model import Ridge\n",
    "from sklearn.linear_model import Lasso\n",
    "from sklearn.svm import SVR\n",
    "import lightgbm as lgb \n",
    "\n",
    "## Import Hyperparameter tunning\n",
    "from sklearn.model_selection import RandomizedSearchCV\n",
    "from sklearn.model_selection import GridSearchCV\n",
    "\n",
    "## Import Evaluation Metrics\n",
    "from sklearn.metrics import mean_absolute_percentage_error\n",
    "from sklearn.metrics import mean_absolute_error\n",
    "from sklearn.metrics import mean_squared_error\n",
    "from sklearn.metrics import r2_score\n",
    "\n",
    "## Import other libries\n",
    "import warnings\n",
    "import zipfile\n",
    "import pickle\n",
    "import math\n",
    "\n",
    "#Setup warning configuration\n",
    "warnings.filterwarnings(\"ignore\")"
   ]
  },
  {
   "cell_type": "markdown",
   "id": "0cdbdd3c",
   "metadata": {},
   "source": [
    "## Exploratory Data Analysis\n",
    "Okay so now that we have successully import all our libries needed to explore and build our model, we are now going to begin with our first step thats to explore our dataset. By doing so, we will get to know more about our dataset such as finding missing values, checking the relationship between features and many more. Okay so without wasting much time, lets get started now."
   ]
  },
  {
   "cell_type": "code",
   "execution_count": 8,
   "id": "75a2ca0d",
   "metadata": {},
   "outputs": [],
   "source": [
    "#Get Dataset from azure storage account\n",
    "try:\n",
    "    \n",
    "    ## Lets bring in our dataset now\n",
    "    df=pd.read_csv(\"../data/medical-cost.csv\")\n",
    "\n",
    "except:\n",
    "    \n",
    "    # Get incoming dataset\n",
    "    !wget https://publicimages0.blob.core.windows.net/datasets/Tabular/modecal_cost/medical_cost.zip\n",
    "    !mv medical_cost.zip ../data\n",
    "    data=zipfile.ZipFile(\"../data/medical_cost.zip\")\n",
    "    data.extractall(\"../data/\")\n",
    "    data.close()\n",
    "    \n",
    "    ## Lets bring in our dataset now\n",
    "    df=pd.read_csv(\"../data/medical-cost.csv\")\n",
    "    "
   ]
  },
  {
   "cell_type": "code",
   "execution_count": 9,
   "id": "f3664284",
   "metadata": {},
   "outputs": [
    {
     "data": {
      "text/html": [
       "<div>\n",
       "<style scoped>\n",
       "    .dataframe tbody tr th:only-of-type {\n",
       "        vertical-align: middle;\n",
       "    }\n",
       "\n",
       "    .dataframe tbody tr th {\n",
       "        vertical-align: top;\n",
       "    }\n",
       "\n",
       "    .dataframe thead th {\n",
       "        text-align: right;\n",
       "    }\n",
       "</style>\n",
       "<table border=\"1\" class=\"dataframe\">\n",
       "  <thead>\n",
       "    <tr style=\"text-align: right;\">\n",
       "      <th></th>\n",
       "      <th>age</th>\n",
       "      <th>sex</th>\n",
       "      <th>bmi</th>\n",
       "      <th>children</th>\n",
       "      <th>smoker</th>\n",
       "      <th>region</th>\n",
       "      <th>charges</th>\n",
       "    </tr>\n",
       "  </thead>\n",
       "  <tbody>\n",
       "    <tr>\n",
       "      <th>0</th>\n",
       "      <td>19</td>\n",
       "      <td>female</td>\n",
       "      <td>27.900</td>\n",
       "      <td>0</td>\n",
       "      <td>yes</td>\n",
       "      <td>southwest</td>\n",
       "      <td>16884.92400</td>\n",
       "    </tr>\n",
       "    <tr>\n",
       "      <th>1</th>\n",
       "      <td>18</td>\n",
       "      <td>male</td>\n",
       "      <td>33.770</td>\n",
       "      <td>1</td>\n",
       "      <td>no</td>\n",
       "      <td>southeast</td>\n",
       "      <td>1725.55230</td>\n",
       "    </tr>\n",
       "    <tr>\n",
       "      <th>2</th>\n",
       "      <td>28</td>\n",
       "      <td>male</td>\n",
       "      <td>33.000</td>\n",
       "      <td>3</td>\n",
       "      <td>no</td>\n",
       "      <td>southeast</td>\n",
       "      <td>4449.46200</td>\n",
       "    </tr>\n",
       "    <tr>\n",
       "      <th>3</th>\n",
       "      <td>33</td>\n",
       "      <td>male</td>\n",
       "      <td>22.705</td>\n",
       "      <td>0</td>\n",
       "      <td>no</td>\n",
       "      <td>northwest</td>\n",
       "      <td>21984.47061</td>\n",
       "    </tr>\n",
       "    <tr>\n",
       "      <th>4</th>\n",
       "      <td>32</td>\n",
       "      <td>male</td>\n",
       "      <td>28.880</td>\n",
       "      <td>0</td>\n",
       "      <td>no</td>\n",
       "      <td>northwest</td>\n",
       "      <td>3866.85520</td>\n",
       "    </tr>\n",
       "  </tbody>\n",
       "</table>\n",
       "</div>"
      ],
      "text/plain": [
       "   age     sex     bmi  children smoker     region      charges\n",
       "0   19  female  27.900         0    yes  southwest  16884.92400\n",
       "1   18    male  33.770         1     no  southeast   1725.55230\n",
       "2   28    male  33.000         3     no  southeast   4449.46200\n",
       "3   33    male  22.705         0     no  northwest  21984.47061\n",
       "4   32    male  28.880         0     no  northwest   3866.85520"
      ]
     },
     "execution_count": 9,
     "metadata": {},
     "output_type": "execute_result"
    }
   ],
   "source": [
    "## Display first five(5) rows\n",
    "df.head()"
   ]
  },
  {
   "cell_type": "code",
   "execution_count": 10,
   "id": "93d277c5",
   "metadata": {},
   "outputs": [
    {
     "data": {
      "text/plain": [
       "(1338, 7)"
      ]
     },
     "execution_count": 10,
     "metadata": {},
     "output_type": "execute_result"
    }
   ],
   "source": [
    "## Check total number of features and labels\n",
    "df.shape"
   ]
  },
  {
   "cell_type": "code",
   "execution_count": 11,
   "id": "5909b7cd",
   "metadata": {},
   "outputs": [
    {
     "data": {
      "text/plain": [
       "age         0\n",
       "sex         0\n",
       "bmi         0\n",
       "children    0\n",
       "smoker      0\n",
       "region      0\n",
       "charges     0\n",
       "dtype: int64"
      ]
     },
     "execution_count": 11,
     "metadata": {},
     "output_type": "execute_result"
    }
   ],
   "source": [
    "## Let's check for null values\n",
    "df.isna().sum()"
   ]
  },
  {
   "cell_type": "code",
   "execution_count": 12,
   "id": "d66dd6dc",
   "metadata": {},
   "outputs": [
    {
     "data": {
      "text/plain": [
       "age           int64\n",
       "sex          object\n",
       "bmi         float64\n",
       "children      int64\n",
       "smoker       object\n",
       "region       object\n",
       "charges     float64\n",
       "dtype: object"
      ]
     },
     "execution_count": 12,
     "metadata": {},
     "output_type": "execute_result"
    }
   ],
   "source": [
    "## Check for feature data types\n",
    "df.dtypes"
   ]
  },
  {
   "cell_type": "code",
   "execution_count": 13,
   "id": "bd79e460",
   "metadata": {},
   "outputs": [],
   "source": [
    "## Place all categorical features in cat_features variable and numeric features into num_features\n",
    "cat_features=df.select_dtypes(include=[\"object\", \"category\"]).columns\n",
    "num_features=df.select_dtypes(exclude=[\"object\", \"category\"]).columns"
   ]
  },
  {
   "cell_type": "code",
   "execution_count": 14,
   "id": "9cbbae16",
   "metadata": {},
   "outputs": [
    {
     "name": "stdout",
     "output_type": "stream",
     "text": [
      "\n",
      "Numeric Features: Index(['age', 'bmi', 'children', 'charges'], dtype='object')\n",
      "\n",
      "Categorical Features: Index(['sex', 'smoker', 'region'], dtype='object')\n",
      "\n"
     ]
    }
   ],
   "source": [
    "## Lets disply both numeric and categorical features\n",
    "print(f\"\\nNumeric Features: {num_features}\\n\")\n",
    "print(f\"Categorical Features: {cat_features}\\n\")"
   ]
  },
  {
   "cell_type": "code",
   "execution_count": 15,
   "id": "bbe10d5b",
   "metadata": {},
   "outputs": [
    {
     "data": {
      "text/html": [
       "<div>\n",
       "<style scoped>\n",
       "    .dataframe tbody tr th:only-of-type {\n",
       "        vertical-align: middle;\n",
       "    }\n",
       "\n",
       "    .dataframe tbody tr th {\n",
       "        vertical-align: top;\n",
       "    }\n",
       "\n",
       "    .dataframe thead th {\n",
       "        text-align: right;\n",
       "    }\n",
       "</style>\n",
       "<table border=\"1\" class=\"dataframe\">\n",
       "  <thead>\n",
       "    <tr style=\"text-align: right;\">\n",
       "      <th></th>\n",
       "      <th>age</th>\n",
       "      <th>sex</th>\n",
       "      <th>bmi</th>\n",
       "      <th>children</th>\n",
       "      <th>smoker</th>\n",
       "      <th>region</th>\n",
       "      <th>charges</th>\n",
       "    </tr>\n",
       "  </thead>\n",
       "  <tbody>\n",
       "    <tr>\n",
       "      <th>0</th>\n",
       "      <td>19</td>\n",
       "      <td>female</td>\n",
       "      <td>27.900</td>\n",
       "      <td>0</td>\n",
       "      <td>yes</td>\n",
       "      <td>southwest</td>\n",
       "      <td>16884.92400</td>\n",
       "    </tr>\n",
       "    <tr>\n",
       "      <th>1</th>\n",
       "      <td>18</td>\n",
       "      <td>male</td>\n",
       "      <td>33.770</td>\n",
       "      <td>1</td>\n",
       "      <td>no</td>\n",
       "      <td>southeast</td>\n",
       "      <td>1725.55230</td>\n",
       "    </tr>\n",
       "    <tr>\n",
       "      <th>2</th>\n",
       "      <td>28</td>\n",
       "      <td>male</td>\n",
       "      <td>33.000</td>\n",
       "      <td>3</td>\n",
       "      <td>no</td>\n",
       "      <td>southeast</td>\n",
       "      <td>4449.46200</td>\n",
       "    </tr>\n",
       "    <tr>\n",
       "      <th>3</th>\n",
       "      <td>33</td>\n",
       "      <td>male</td>\n",
       "      <td>22.705</td>\n",
       "      <td>0</td>\n",
       "      <td>no</td>\n",
       "      <td>northwest</td>\n",
       "      <td>21984.47061</td>\n",
       "    </tr>\n",
       "    <tr>\n",
       "      <th>4</th>\n",
       "      <td>32</td>\n",
       "      <td>male</td>\n",
       "      <td>28.880</td>\n",
       "      <td>0</td>\n",
       "      <td>no</td>\n",
       "      <td>northwest</td>\n",
       "      <td>3866.85520</td>\n",
       "    </tr>\n",
       "  </tbody>\n",
       "</table>\n",
       "</div>"
      ],
      "text/plain": [
       "   age     sex     bmi  children smoker     region      charges\n",
       "0   19  female  27.900         0    yes  southwest  16884.92400\n",
       "1   18    male  33.770         1     no  southeast   1725.55230\n",
       "2   28    male  33.000         3     no  southeast   4449.46200\n",
       "3   33    male  22.705         0     no  northwest  21984.47061\n",
       "4   32    male  28.880         0     no  northwest   3866.85520"
      ]
     },
     "execution_count": 15,
     "metadata": {},
     "output_type": "execute_result"
    }
   ],
   "source": [
    "## Display our dataset\n",
    "df.head()"
   ]
  },
  {
   "cell_type": "code",
   "execution_count": 16,
   "id": "b6e5a75b",
   "metadata": {},
   "outputs": [
    {
     "data": {
      "text/plain": [
       "male      676\n",
       "female    662\n",
       "Name: sex, dtype: int64"
      ]
     },
     "execution_count": 16,
     "metadata": {},
     "output_type": "execute_result"
    }
   ],
   "source": [
    "\"\"\"\n",
    "Okay so let us now check between male and female who had more medical issues\n",
    "using frequency table\n",
    "\"\"\"\n",
    "df.sex.value_counts()"
   ]
  },
  {
   "cell_type": "code",
   "execution_count": 17,
   "id": "91451ac0",
   "metadata": {},
   "outputs": [
    {
     "data": {
      "image/png": "[encoded data removed]",
      "text/plain": [
       "<Figure size 800x400 with 2 Axes>"
      ]
     },
     "metadata": {},
     "output_type": "display_data"
    }
   ],
   "source": [
    "\"\"\"\n",
    "Okay so let us now visualize those who had more medical issue i.e\n",
    "either male or femals\n",
    "\"\"\"\n",
    "\n",
    "## Configure plot view size\n",
    "plt.figure(figsize=(8,4))\n",
    "\n",
    "## Visualize using pie chart\n",
    "plt.subplot(1,2,1)\n",
    "df.sex.value_counts().plot(kind=\"pie\", autopct=\"%.2f%%\", explode=[0.02,0.02])\n",
    "\n",
    "plt.subplot(1,2,2)\n",
    "df.sex.value_counts().plot(kind=\"bar\")\n",
    "plt.show()"
   ]
  },
  {
   "cell_type": "markdown",
   "id": "f686902b",
   "metadata": {},
   "source": [
    "### Observation (1):\n",
    "Okay so from what we have been doing soo far, we can see that:\n",
    "1. Non of our features contain null values.\n",
    "2. The dataset contain both numerical and categorical features but there are more numeric features than categorical features.\n",
    "3. Also, patients who had more medical issues were all males.\n",
    "\n",
    "Okay so we will now continue to explore our datasets by comparing them to each other to see their relationship and how they relate to each other. So without wasting much time, lets get continue now."
   ]
  },
  {
   "cell_type": "code",
   "execution_count": 18,
   "id": "e642657b",
   "metadata": {},
   "outputs": [
    {
     "data": {
      "text/html": [
       "<div>\n",
       "<style scoped>\n",
       "    .dataframe tbody tr th:only-of-type {\n",
       "        vertical-align: middle;\n",
       "    }\n",
       "\n",
       "    .dataframe tbody tr th {\n",
       "        vertical-align: top;\n",
       "    }\n",
       "\n",
       "    .dataframe thead th {\n",
       "        text-align: right;\n",
       "    }\n",
       "</style>\n",
       "<table border=\"1\" class=\"dataframe\">\n",
       "  <thead>\n",
       "    <tr style=\"text-align: right;\">\n",
       "      <th></th>\n",
       "      <th>age</th>\n",
       "      <th>sex</th>\n",
       "      <th>bmi</th>\n",
       "      <th>children</th>\n",
       "      <th>smoker</th>\n",
       "      <th>region</th>\n",
       "      <th>charges</th>\n",
       "    </tr>\n",
       "  </thead>\n",
       "  <tbody>\n",
       "    <tr>\n",
       "      <th>0</th>\n",
       "      <td>19</td>\n",
       "      <td>female</td>\n",
       "      <td>27.900</td>\n",
       "      <td>0</td>\n",
       "      <td>yes</td>\n",
       "      <td>southwest</td>\n",
       "      <td>16884.92400</td>\n",
       "    </tr>\n",
       "    <tr>\n",
       "      <th>1</th>\n",
       "      <td>18</td>\n",
       "      <td>male</td>\n",
       "      <td>33.770</td>\n",
       "      <td>1</td>\n",
       "      <td>no</td>\n",
       "      <td>southeast</td>\n",
       "      <td>1725.55230</td>\n",
       "    </tr>\n",
       "    <tr>\n",
       "      <th>2</th>\n",
       "      <td>28</td>\n",
       "      <td>male</td>\n",
       "      <td>33.000</td>\n",
       "      <td>3</td>\n",
       "      <td>no</td>\n",
       "      <td>southeast</td>\n",
       "      <td>4449.46200</td>\n",
       "    </tr>\n",
       "    <tr>\n",
       "      <th>3</th>\n",
       "      <td>33</td>\n",
       "      <td>male</td>\n",
       "      <td>22.705</td>\n",
       "      <td>0</td>\n",
       "      <td>no</td>\n",
       "      <td>northwest</td>\n",
       "      <td>21984.47061</td>\n",
       "    </tr>\n",
       "    <tr>\n",
       "      <th>4</th>\n",
       "      <td>32</td>\n",
       "      <td>male</td>\n",
       "      <td>28.880</td>\n",
       "      <td>0</td>\n",
       "      <td>no</td>\n",
       "      <td>northwest</td>\n",
       "      <td>3866.85520</td>\n",
       "    </tr>\n",
       "  </tbody>\n",
       "</table>\n",
       "</div>"
      ],
      "text/plain": [
       "   age     sex     bmi  children smoker     region      charges\n",
       "0   19  female  27.900         0    yes  southwest  16884.92400\n",
       "1   18    male  33.770         1     no  southeast   1725.55230\n",
       "2   28    male  33.000         3     no  southeast   4449.46200\n",
       "3   33    male  22.705         0     no  northwest  21984.47061\n",
       "4   32    male  28.880         0     no  northwest   3866.85520"
      ]
     },
     "execution_count": 18,
     "metadata": {},
     "output_type": "execute_result"
    }
   ],
   "source": [
    "## Display dataset\n",
    "df.head()"
   ]
  },
  {
   "cell_type": "code",
   "execution_count": 19,
   "id": "afdc6047",
   "metadata": {},
   "outputs": [
    {
     "data": {
      "text/html": [
       "<div>\n",
       "<style scoped>\n",
       "    .dataframe tbody tr th:only-of-type {\n",
       "        vertical-align: middle;\n",
       "    }\n",
       "\n",
       "    .dataframe tbody tr th {\n",
       "        vertical-align: top;\n",
       "    }\n",
       "\n",
       "    .dataframe thead th {\n",
       "        text-align: right;\n",
       "    }\n",
       "</style>\n",
       "<table border=\"1\" class=\"dataframe\">\n",
       "  <thead>\n",
       "    <tr style=\"text-align: right;\">\n",
       "      <th>smoker</th>\n",
       "      <th>no</th>\n",
       "      <th>yes</th>\n",
       "    </tr>\n",
       "    <tr>\n",
       "      <th>sex</th>\n",
       "      <th></th>\n",
       "      <th></th>\n",
       "    </tr>\n",
       "  </thead>\n",
       "  <tbody>\n",
       "    <tr>\n",
       "      <th>female</th>\n",
       "      <td>547</td>\n",
       "      <td>115</td>\n",
       "    </tr>\n",
       "    <tr>\n",
       "      <th>male</th>\n",
       "      <td>517</td>\n",
       "      <td>159</td>\n",
       "    </tr>\n",
       "  </tbody>\n",
       "</table>\n",
       "</div>"
      ],
      "text/plain": [
       "smoker   no  yes\n",
       "sex             \n",
       "female  547  115\n",
       "male    517  159"
      ]
     },
     "execution_count": 19,
     "metadata": {},
     "output_type": "execute_result"
    }
   ],
   "source": [
    "\"\"\"\n",
    "Okay so now we have to check the total number of male and female\n",
    "who smoked and those who didn't and also visualize our results\n",
    "\"\"\"\n",
    "pd.crosstab(df.sex, df.smoker)"
   ]
  },
  {
   "cell_type": "code",
   "execution_count": 20,
   "id": "9ae63fda",
   "metadata": {},
   "outputs": [
    {
     "data": {
      "image/png": "[encoded data removed]",
      "text/plain": [
       "<Figure size 640x480 with 1 Axes>"
      ]
     },
     "metadata": {},
     "output_type": "display_data"
    }
   ],
   "source": [
    "## Visualize above results\n",
    "pd.crosstab(df.sex, df.smoker).plot(kind=\"bar\")\n",
    "plt.xticks(rotation=0)\n",
    "plt.show()"
   ]
  },
  {
   "cell_type": "code",
   "execution_count": 21,
   "id": "b0c05c85",
   "metadata": {},
   "outputs": [
    {
     "data": {
      "text/html": [
       "<div>\n",
       "<style scoped>\n",
       "    .dataframe tbody tr th:only-of-type {\n",
       "        vertical-align: middle;\n",
       "    }\n",
       "\n",
       "    .dataframe tbody tr th {\n",
       "        vertical-align: top;\n",
       "    }\n",
       "\n",
       "    .dataframe thead th {\n",
       "        text-align: right;\n",
       "    }\n",
       "</style>\n",
       "<table border=\"1\" class=\"dataframe\">\n",
       "  <thead>\n",
       "    <tr style=\"text-align: right;\">\n",
       "      <th></th>\n",
       "      <th>age</th>\n",
       "      <th>sex</th>\n",
       "      <th>bmi</th>\n",
       "      <th>children</th>\n",
       "      <th>smoker</th>\n",
       "      <th>region</th>\n",
       "      <th>charges</th>\n",
       "    </tr>\n",
       "  </thead>\n",
       "  <tbody>\n",
       "    <tr>\n",
       "      <th>0</th>\n",
       "      <td>19</td>\n",
       "      <td>female</td>\n",
       "      <td>27.900</td>\n",
       "      <td>0</td>\n",
       "      <td>yes</td>\n",
       "      <td>southwest</td>\n",
       "      <td>16884.92400</td>\n",
       "    </tr>\n",
       "    <tr>\n",
       "      <th>1</th>\n",
       "      <td>18</td>\n",
       "      <td>male</td>\n",
       "      <td>33.770</td>\n",
       "      <td>1</td>\n",
       "      <td>no</td>\n",
       "      <td>southeast</td>\n",
       "      <td>1725.55230</td>\n",
       "    </tr>\n",
       "    <tr>\n",
       "      <th>2</th>\n",
       "      <td>28</td>\n",
       "      <td>male</td>\n",
       "      <td>33.000</td>\n",
       "      <td>3</td>\n",
       "      <td>no</td>\n",
       "      <td>southeast</td>\n",
       "      <td>4449.46200</td>\n",
       "    </tr>\n",
       "    <tr>\n",
       "      <th>3</th>\n",
       "      <td>33</td>\n",
       "      <td>male</td>\n",
       "      <td>22.705</td>\n",
       "      <td>0</td>\n",
       "      <td>no</td>\n",
       "      <td>northwest</td>\n",
       "      <td>21984.47061</td>\n",
       "    </tr>\n",
       "    <tr>\n",
       "      <th>4</th>\n",
       "      <td>32</td>\n",
       "      <td>male</td>\n",
       "      <td>28.880</td>\n",
       "      <td>0</td>\n",
       "      <td>no</td>\n",
       "      <td>northwest</td>\n",
       "      <td>3866.85520</td>\n",
       "    </tr>\n",
       "  </tbody>\n",
       "</table>\n",
       "</div>"
      ],
      "text/plain": [
       "   age     sex     bmi  children smoker     region      charges\n",
       "0   19  female  27.900         0    yes  southwest  16884.92400\n",
       "1   18    male  33.770         1     no  southeast   1725.55230\n",
       "2   28    male  33.000         3     no  southeast   4449.46200\n",
       "3   33    male  22.705         0     no  northwest  21984.47061\n",
       "4   32    male  28.880         0     no  northwest   3866.85520"
      ]
     },
     "execution_count": 21,
     "metadata": {},
     "output_type": "execute_result"
    }
   ],
   "source": [
    "## Display our datasets\n",
    "df.head()"
   ]
  },
  {
   "cell_type": "code",
   "execution_count": 22,
   "id": "5a70a393",
   "metadata": {},
   "outputs": [
    {
     "data": {
      "text/html": [
       "<div>\n",
       "<style scoped>\n",
       "    .dataframe tbody tr th:only-of-type {\n",
       "        vertical-align: middle;\n",
       "    }\n",
       "\n",
       "    .dataframe tbody tr th {\n",
       "        vertical-align: top;\n",
       "    }\n",
       "\n",
       "    .dataframe thead th {\n",
       "        text-align: right;\n",
       "    }\n",
       "</style>\n",
       "<table border=\"1\" class=\"dataframe\">\n",
       "  <thead>\n",
       "    <tr style=\"text-align: right;\">\n",
       "      <th>smoker</th>\n",
       "      <th>no</th>\n",
       "      <th>yes</th>\n",
       "    </tr>\n",
       "    <tr>\n",
       "      <th>region</th>\n",
       "      <th></th>\n",
       "      <th></th>\n",
       "    </tr>\n",
       "  </thead>\n",
       "  <tbody>\n",
       "    <tr>\n",
       "      <th>northeast</th>\n",
       "      <td>257</td>\n",
       "      <td>67</td>\n",
       "    </tr>\n",
       "    <tr>\n",
       "      <th>northwest</th>\n",
       "      <td>267</td>\n",
       "      <td>58</td>\n",
       "    </tr>\n",
       "    <tr>\n",
       "      <th>southeast</th>\n",
       "      <td>273</td>\n",
       "      <td>91</td>\n",
       "    </tr>\n",
       "    <tr>\n",
       "      <th>southwest</th>\n",
       "      <td>267</td>\n",
       "      <td>58</td>\n",
       "    </tr>\n",
       "  </tbody>\n",
       "</table>\n",
       "</div>"
      ],
      "text/plain": [
       "smoker      no  yes\n",
       "region             \n",
       "northeast  257   67\n",
       "northwest  267   58\n",
       "southeast  273   91\n",
       "southwest  267   58"
      ]
     },
     "execution_count": 22,
     "metadata": {},
     "output_type": "execute_result"
    }
   ],
   "source": [
    "\"\"\"\n",
    "Okay so lets check the total number of thos who smoke\n",
    "in each region\n",
    "\"\"\"\n",
    "pd.crosstab(df.region, df.smoker)"
   ]
  },
  {
   "cell_type": "code",
   "execution_count": 23,
   "id": "717cd112",
   "metadata": {},
   "outputs": [
    {
     "data": {
      "image/png": "[encoded data removed]",
      "text/plain": [
       "<Figure size 640x480 with 1 Axes>"
      ]
     },
     "metadata": {},
     "output_type": "display_data"
    }
   ],
   "source": [
    "## Lets visualize above results\n",
    "pd.crosstab(df.region, df.smoker).plot(kind=\"bar\")\n",
    "plt.xticks(rotation=0)\n",
    "plt.show()"
   ]
  },
  {
   "cell_type": "code",
   "execution_count": 24,
   "id": "8e63bbe0",
   "metadata": {},
   "outputs": [
    {
     "data": {
      "image/png": "[encoded data removed]",
      "text/plain": [
       "<Figure size 1000x500 with 2 Axes>"
      ]
     },
     "metadata": {},
     "output_type": "display_data"
    }
   ],
   "source": [
    "## Which region contains more people\n",
    "\n",
    "plt.figure(figsize=(10,5))\n",
    "plt.subplot(1,2,1)\n",
    "df.region.value_counts().plot(kind=\"pie\", autopct=\"%.2f%%\", explode=[0.02,0.02,0.02,0.02])\n",
    "\n",
    "plt.subplot(1,2,2)\n",
    "df.region.value_counts().plot(kind=\"bar\")\n",
    "plt.xticks(rotation=0)\n",
    "\n",
    "plt.show()"
   ]
  },
  {
   "cell_type": "code",
   "execution_count": 25,
   "id": "36b295cb",
   "metadata": {},
   "outputs": [
    {
     "data": {
      "text/html": [
       "<div>\n",
       "<style scoped>\n",
       "    .dataframe tbody tr th:only-of-type {\n",
       "        vertical-align: middle;\n",
       "    }\n",
       "\n",
       "    .dataframe tbody tr th {\n",
       "        vertical-align: top;\n",
       "    }\n",
       "\n",
       "    .dataframe thead th {\n",
       "        text-align: right;\n",
       "    }\n",
       "</style>\n",
       "<table border=\"1\" class=\"dataframe\">\n",
       "  <thead>\n",
       "    <tr style=\"text-align: right;\">\n",
       "      <th></th>\n",
       "      <th>age</th>\n",
       "      <th>sex</th>\n",
       "      <th>bmi</th>\n",
       "      <th>children</th>\n",
       "      <th>smoker</th>\n",
       "      <th>region</th>\n",
       "      <th>charges</th>\n",
       "    </tr>\n",
       "  </thead>\n",
       "  <tbody>\n",
       "    <tr>\n",
       "      <th>1333</th>\n",
       "      <td>50</td>\n",
       "      <td>male</td>\n",
       "      <td>30.97</td>\n",
       "      <td>3</td>\n",
       "      <td>no</td>\n",
       "      <td>northwest</td>\n",
       "      <td>10600.5483</td>\n",
       "    </tr>\n",
       "    <tr>\n",
       "      <th>1334</th>\n",
       "      <td>18</td>\n",
       "      <td>female</td>\n",
       "      <td>31.92</td>\n",
       "      <td>0</td>\n",
       "      <td>no</td>\n",
       "      <td>northeast</td>\n",
       "      <td>2205.9808</td>\n",
       "    </tr>\n",
       "    <tr>\n",
       "      <th>1335</th>\n",
       "      <td>18</td>\n",
       "      <td>female</td>\n",
       "      <td>36.85</td>\n",
       "      <td>0</td>\n",
       "      <td>no</td>\n",
       "      <td>southeast</td>\n",
       "      <td>1629.8335</td>\n",
       "    </tr>\n",
       "    <tr>\n",
       "      <th>1336</th>\n",
       "      <td>21</td>\n",
       "      <td>female</td>\n",
       "      <td>25.80</td>\n",
       "      <td>0</td>\n",
       "      <td>no</td>\n",
       "      <td>southwest</td>\n",
       "      <td>2007.9450</td>\n",
       "    </tr>\n",
       "    <tr>\n",
       "      <th>1337</th>\n",
       "      <td>61</td>\n",
       "      <td>female</td>\n",
       "      <td>29.07</td>\n",
       "      <td>0</td>\n",
       "      <td>yes</td>\n",
       "      <td>northwest</td>\n",
       "      <td>29141.3603</td>\n",
       "    </tr>\n",
       "  </tbody>\n",
       "</table>\n",
       "</div>"
      ],
      "text/plain": [
       "      age     sex    bmi  children smoker     region     charges\n",
       "1333   50    male  30.97         3     no  northwest  10600.5483\n",
       "1334   18  female  31.92         0     no  northeast   2205.9808\n",
       "1335   18  female  36.85         0     no  southeast   1629.8335\n",
       "1336   21  female  25.80         0     no  southwest   2007.9450\n",
       "1337   61  female  29.07         0    yes  northwest  29141.3603"
      ]
     },
     "execution_count": 25,
     "metadata": {},
     "output_type": "execute_result"
    }
   ],
   "source": [
    "## Display dataset\n",
    "df.tail()"
   ]
  },
  {
   "cell_type": "code",
   "execution_count": 26,
   "id": "6b40d682",
   "metadata": {},
   "outputs": [
    {
     "data": {
      "image/png": "[encoded data removed]",
      "text/plain": [
       "<Figure size 640x480 with 1 Axes>"
      ]
     },
     "metadata": {},
     "output_type": "display_data"
    }
   ],
   "source": [
    "# Compare male and femal to see those who smoked alort in each region\n",
    "pd.crosstab(columns=[df.sex, df[df.smoker==\"yes\"].smoker], index=df.region).plot(kind=\"bar\")\n",
    "plt.xticks(rotation=0)\n",
    "plt.show()"
   ]
  },
  {
   "cell_type": "code",
   "execution_count": 27,
   "id": "f65e74b2",
   "metadata": {},
   "outputs": [
    {
     "data": {
      "image/png": "[encoded data removed]",
      "text/plain": [
       "<Figure size 640x480 with 2 Axes>"
      ]
     },
     "metadata": {},
     "output_type": "display_data"
    }
   ],
   "source": [
    "## Lets see how our numeric features are closer to each other using correlation\n",
    "sns.heatmap(df[num_features].corr(), annot=True)\n",
    "plt.show()"
   ]
  },
  {
   "cell_type": "code",
   "execution_count": 28,
   "id": "1ecd9e26",
   "metadata": {},
   "outputs": [
    {
     "data": {
      "text/html": [
       "<div>\n",
       "<style scoped>\n",
       "    .dataframe tbody tr th:only-of-type {\n",
       "        vertical-align: middle;\n",
       "    }\n",
       "\n",
       "    .dataframe tbody tr th {\n",
       "        vertical-align: top;\n",
       "    }\n",
       "\n",
       "    .dataframe thead th {\n",
       "        text-align: right;\n",
       "    }\n",
       "</style>\n",
       "<table border=\"1\" class=\"dataframe\">\n",
       "  <thead>\n",
       "    <tr style=\"text-align: right;\">\n",
       "      <th></th>\n",
       "      <th>age</th>\n",
       "      <th>bmi</th>\n",
       "      <th>children</th>\n",
       "      <th>charges</th>\n",
       "    </tr>\n",
       "  </thead>\n",
       "  <tbody>\n",
       "    <tr>\n",
       "      <th>0</th>\n",
       "      <td>19</td>\n",
       "      <td>27.900</td>\n",
       "      <td>0</td>\n",
       "      <td>16884.92400</td>\n",
       "    </tr>\n",
       "    <tr>\n",
       "      <th>1</th>\n",
       "      <td>18</td>\n",
       "      <td>33.770</td>\n",
       "      <td>1</td>\n",
       "      <td>1725.55230</td>\n",
       "    </tr>\n",
       "    <tr>\n",
       "      <th>2</th>\n",
       "      <td>28</td>\n",
       "      <td>33.000</td>\n",
       "      <td>3</td>\n",
       "      <td>4449.46200</td>\n",
       "    </tr>\n",
       "    <tr>\n",
       "      <th>3</th>\n",
       "      <td>33</td>\n",
       "      <td>22.705</td>\n",
       "      <td>0</td>\n",
       "      <td>21984.47061</td>\n",
       "    </tr>\n",
       "    <tr>\n",
       "      <th>4</th>\n",
       "      <td>32</td>\n",
       "      <td>28.880</td>\n",
       "      <td>0</td>\n",
       "      <td>3866.85520</td>\n",
       "    </tr>\n",
       "  </tbody>\n",
       "</table>\n",
       "</div>"
      ],
      "text/plain": [
       "   age     bmi  children      charges\n",
       "0   19  27.900         0  16884.92400\n",
       "1   18  33.770         1   1725.55230\n",
       "2   28  33.000         3   4449.46200\n",
       "3   33  22.705         0  21984.47061\n",
       "4   32  28.880         0   3866.85520"
      ]
     },
     "execution_count": 28,
     "metadata": {},
     "output_type": "execute_result"
    }
   ],
   "source": [
    "## Display dataset\n",
    "df[num_features].head()"
   ]
  },
  {
   "cell_type": "markdown",
   "id": "ff2f4912",
   "metadata": {},
   "source": [
    "### Observation (2)\n",
    "Okay so from what we've been doing soo far, we can see that:\n",
    "1. In our dataset, with both Males and Females, those who smoked are less than those who didn't.\n",
    "2. In northeast those who didn't smoke are more than those who smoked.\n",
    "3. In northwest, those who didn't smoke are more that those who smoked.\n",
    "4. In southeast, those who didn't smoke are more that those who smoked.\n",
    "5. In sourhwest, those who did'nt smoke are more than those who smoked.\n",
    "6. The region which contains more people with medical charges are as follows:\n",
    "    1. South East\n",
    "    2. North West and South West are equal\n",
    "    3. North East\n",
    "7. In northeast, male smokers were more than female smokers.\n",
    "8. In northwest, the total number of males and females who smoked are equal.\n",
    "9. In southeast, male smokers were more than female smoker.\n",
    "10. In southwest, male smokers where more than female smokers.\n",
    "11. Our dataset are not highly correlated to each other.\n",
    "\n",
    "Okay so lets continue by checking the distribution of our datasets and also drawing a box plot."
   ]
  },
  {
   "cell_type": "code",
   "execution_count": 29,
   "id": "2c0a0270",
   "metadata": {},
   "outputs": [
    {
     "data": {
      "text/html": [
       "<div>\n",
       "<style scoped>\n",
       "    .dataframe tbody tr th:only-of-type {\n",
       "        vertical-align: middle;\n",
       "    }\n",
       "\n",
       "    .dataframe tbody tr th {\n",
       "        vertical-align: top;\n",
       "    }\n",
       "\n",
       "    .dataframe thead th {\n",
       "        text-align: right;\n",
       "    }\n",
       "</style>\n",
       "<table border=\"1\" class=\"dataframe\">\n",
       "  <thead>\n",
       "    <tr style=\"text-align: right;\">\n",
       "      <th></th>\n",
       "      <th>age</th>\n",
       "      <th>sex</th>\n",
       "      <th>bmi</th>\n",
       "      <th>children</th>\n",
       "      <th>smoker</th>\n",
       "      <th>region</th>\n",
       "      <th>charges</th>\n",
       "    </tr>\n",
       "  </thead>\n",
       "  <tbody>\n",
       "    <tr>\n",
       "      <th>0</th>\n",
       "      <td>19</td>\n",
       "      <td>female</td>\n",
       "      <td>27.900</td>\n",
       "      <td>0</td>\n",
       "      <td>yes</td>\n",
       "      <td>southwest</td>\n",
       "      <td>16884.92400</td>\n",
       "    </tr>\n",
       "    <tr>\n",
       "      <th>1</th>\n",
       "      <td>18</td>\n",
       "      <td>male</td>\n",
       "      <td>33.770</td>\n",
       "      <td>1</td>\n",
       "      <td>no</td>\n",
       "      <td>southeast</td>\n",
       "      <td>1725.55230</td>\n",
       "    </tr>\n",
       "    <tr>\n",
       "      <th>2</th>\n",
       "      <td>28</td>\n",
       "      <td>male</td>\n",
       "      <td>33.000</td>\n",
       "      <td>3</td>\n",
       "      <td>no</td>\n",
       "      <td>southeast</td>\n",
       "      <td>4449.46200</td>\n",
       "    </tr>\n",
       "    <tr>\n",
       "      <th>3</th>\n",
       "      <td>33</td>\n",
       "      <td>male</td>\n",
       "      <td>22.705</td>\n",
       "      <td>0</td>\n",
       "      <td>no</td>\n",
       "      <td>northwest</td>\n",
       "      <td>21984.47061</td>\n",
       "    </tr>\n",
       "    <tr>\n",
       "      <th>4</th>\n",
       "      <td>32</td>\n",
       "      <td>male</td>\n",
       "      <td>28.880</td>\n",
       "      <td>0</td>\n",
       "      <td>no</td>\n",
       "      <td>northwest</td>\n",
       "      <td>3866.85520</td>\n",
       "    </tr>\n",
       "  </tbody>\n",
       "</table>\n",
       "</div>"
      ],
      "text/plain": [
       "   age     sex     bmi  children smoker     region      charges\n",
       "0   19  female  27.900         0    yes  southwest  16884.92400\n",
       "1   18    male  33.770         1     no  southeast   1725.55230\n",
       "2   28    male  33.000         3     no  southeast   4449.46200\n",
       "3   33    male  22.705         0     no  northwest  21984.47061\n",
       "4   32    male  28.880         0     no  northwest   3866.85520"
      ]
     },
     "execution_count": 29,
     "metadata": {},
     "output_type": "execute_result"
    }
   ],
   "source": [
    "#Display datasets\n",
    "df.head()"
   ]
  },
  {
   "cell_type": "code",
   "execution_count": 30,
   "id": "18a30ec8",
   "metadata": {},
   "outputs": [
    {
     "data": {
      "text/html": [
       "<div>\n",
       "<style scoped>\n",
       "    .dataframe tbody tr th:only-of-type {\n",
       "        vertical-align: middle;\n",
       "    }\n",
       "\n",
       "    .dataframe tbody tr th {\n",
       "        vertical-align: top;\n",
       "    }\n",
       "\n",
       "    .dataframe thead th {\n",
       "        text-align: right;\n",
       "    }\n",
       "</style>\n",
       "<table border=\"1\" class=\"dataframe\">\n",
       "  <thead>\n",
       "    <tr style=\"text-align: right;\">\n",
       "      <th></th>\n",
       "      <th>age</th>\n",
       "      <th>bmi</th>\n",
       "      <th>children</th>\n",
       "      <th>charges</th>\n",
       "    </tr>\n",
       "  </thead>\n",
       "  <tbody>\n",
       "    <tr>\n",
       "      <th>0</th>\n",
       "      <td>19</td>\n",
       "      <td>27.900</td>\n",
       "      <td>0</td>\n",
       "      <td>16884.92400</td>\n",
       "    </tr>\n",
       "    <tr>\n",
       "      <th>1</th>\n",
       "      <td>18</td>\n",
       "      <td>33.770</td>\n",
       "      <td>1</td>\n",
       "      <td>1725.55230</td>\n",
       "    </tr>\n",
       "    <tr>\n",
       "      <th>2</th>\n",
       "      <td>28</td>\n",
       "      <td>33.000</td>\n",
       "      <td>3</td>\n",
       "      <td>4449.46200</td>\n",
       "    </tr>\n",
       "    <tr>\n",
       "      <th>3</th>\n",
       "      <td>33</td>\n",
       "      <td>22.705</td>\n",
       "      <td>0</td>\n",
       "      <td>21984.47061</td>\n",
       "    </tr>\n",
       "    <tr>\n",
       "      <th>4</th>\n",
       "      <td>32</td>\n",
       "      <td>28.880</td>\n",
       "      <td>0</td>\n",
       "      <td>3866.85520</td>\n",
       "    </tr>\n",
       "  </tbody>\n",
       "</table>\n",
       "</div>"
      ],
      "text/plain": [
       "   age     bmi  children      charges\n",
       "0   19  27.900         0  16884.92400\n",
       "1   18  33.770         1   1725.55230\n",
       "2   28  33.000         3   4449.46200\n",
       "3   33  22.705         0  21984.47061\n",
       "4   32  28.880         0   3866.85520"
      ]
     },
     "execution_count": 30,
     "metadata": {},
     "output_type": "execute_result"
    }
   ],
   "source": [
    "#Display numeric data using the feature names we generated\n",
    "df[num_features].head()"
   ]
  },
  {
   "cell_type": "code",
   "execution_count": 31,
   "id": "f8c71b40",
   "metadata": {},
   "outputs": [
    {
     "data": {
      "image/png": "[encoded data removed]",
      "text/plain": [
       "<Figure size 1000x500 with 2 Axes>"
      ]
     },
     "metadata": {},
     "output_type": "display_data"
    }
   ],
   "source": [
    "## Check bmi distribution\n",
    "plt.figure(figsize=(10, 5))\n",
    "plt.subplot(1, 2, 1)\n",
    "sns.distplot(df.bmi)\n",
    "plt.title(\"bmi normal distribution curve\")\n",
    "\n",
    "#Check for childrens \n",
    "plt.subplot(1, 2, 2)\n",
    "sns.boxplot(df.bmi)\n",
    "plt.title(\"bmi boxplot to check for outliers\")\n",
    "\n",
    "plt.show()"
   ]
  },
  {
   "cell_type": "code",
   "execution_count": 32,
   "id": "25d9e39c",
   "metadata": {},
   "outputs": [
    {
     "data": {
      "image/png": "[encoded data removed]",
      "text/plain": [
       "<Figure size 1000x500 with 2 Axes>"
      ]
     },
     "metadata": {},
     "output_type": "display_data"
    }
   ],
   "source": [
    "## Check bmi distribution\n",
    "plt.figure(figsize=(10, 5))\n",
    "plt.subplot(1, 2, 1)\n",
    "sns.distplot(df.age)\n",
    "plt.title(\"age normal distribution curve\")\n",
    "\n",
    "#Check for childrens \n",
    "plt.subplot(1, 2, 2)\n",
    "sns.boxplot(df.age)\n",
    "plt.title(\"age boxplot to check for outliers\")\n",
    "\n",
    "plt.show()"
   ]
  },
  {
   "cell_type": "code",
   "execution_count": 33,
   "id": "3691e153",
   "metadata": {},
   "outputs": [
    {
     "data": {
      "image/png": "[encoded data removed]",
      "text/plain": [
       "<Figure size 1000x500 with 2 Axes>"
      ]
     },
     "metadata": {},
     "output_type": "display_data"
    }
   ],
   "source": [
    "## Check bmi distribution\n",
    "plt.figure(figsize=(10, 5))\n",
    "plt.subplot(1, 2, 1)\n",
    "sns.distplot(df.children)\n",
    "plt.title(\"children normal distribution curve\")\n",
    "\n",
    "#Check for childrens \n",
    "plt.subplot(1, 2, 2)\n",
    "sns.boxplot(df.children)\n",
    "plt.title(\"children boxplot to check for outliers\")\n",
    "\n",
    "plt.show()"
   ]
  },
  {
   "cell_type": "markdown",
   "id": "5649bd71",
   "metadata": {},
   "source": [
    "### Observation (3)\n",
    "From above, we can see that:\n",
    "1. bmi is has outliers in them.\n",
    "2. bmi is also a normally distributed feature."
   ]
  },
  {
   "cell_type": "code",
   "execution_count": 34,
   "id": "d95c20b2",
   "metadata": {},
   "outputs": [
    {
     "data": {
      "text/html": [
       "<div>\n",
       "<style scoped>\n",
       "    .dataframe tbody tr th:only-of-type {\n",
       "        vertical-align: middle;\n",
       "    }\n",
       "\n",
       "    .dataframe tbody tr th {\n",
       "        vertical-align: top;\n",
       "    }\n",
       "\n",
       "    .dataframe thead th {\n",
       "        text-align: right;\n",
       "    }\n",
       "</style>\n",
       "<table border=\"1\" class=\"dataframe\">\n",
       "  <thead>\n",
       "    <tr style=\"text-align: right;\">\n",
       "      <th></th>\n",
       "      <th>count</th>\n",
       "      <th>mean</th>\n",
       "      <th>std</th>\n",
       "      <th>min</th>\n",
       "      <th>25%</th>\n",
       "      <th>50%</th>\n",
       "      <th>75%</th>\n",
       "      <th>max</th>\n",
       "    </tr>\n",
       "  </thead>\n",
       "  <tbody>\n",
       "    <tr>\n",
       "      <th>age</th>\n",
       "      <td>1338.0</td>\n",
       "      <td>39.207025</td>\n",
       "      <td>14.049960</td>\n",
       "      <td>18.0000</td>\n",
       "      <td>27.00000</td>\n",
       "      <td>39.000</td>\n",
       "      <td>51.000000</td>\n",
       "      <td>64.00000</td>\n",
       "    </tr>\n",
       "    <tr>\n",
       "      <th>bmi</th>\n",
       "      <td>1338.0</td>\n",
       "      <td>30.663397</td>\n",
       "      <td>6.098187</td>\n",
       "      <td>15.9600</td>\n",
       "      <td>26.29625</td>\n",
       "      <td>30.400</td>\n",
       "      <td>34.693750</td>\n",
       "      <td>53.13000</td>\n",
       "    </tr>\n",
       "    <tr>\n",
       "      <th>children</th>\n",
       "      <td>1338.0</td>\n",
       "      <td>1.094918</td>\n",
       "      <td>1.205493</td>\n",
       "      <td>0.0000</td>\n",
       "      <td>0.00000</td>\n",
       "      <td>1.000</td>\n",
       "      <td>2.000000</td>\n",
       "      <td>5.00000</td>\n",
       "    </tr>\n",
       "    <tr>\n",
       "      <th>charges</th>\n",
       "      <td>1338.0</td>\n",
       "      <td>13270.422265</td>\n",
       "      <td>12110.011237</td>\n",
       "      <td>1121.8739</td>\n",
       "      <td>4740.28715</td>\n",
       "      <td>9382.033</td>\n",
       "      <td>16639.912515</td>\n",
       "      <td>63770.42801</td>\n",
       "    </tr>\n",
       "  </tbody>\n",
       "</table>\n",
       "</div>"
      ],
      "text/plain": [
       "           count          mean           std        min         25%       50%  \\\n",
       "age       1338.0     39.207025     14.049960    18.0000    27.00000    39.000   \n",
       "bmi       1338.0     30.663397      6.098187    15.9600    26.29625    30.400   \n",
       "children  1338.0      1.094918      1.205493     0.0000     0.00000     1.000   \n",
       "charges   1338.0  13270.422265  12110.011237  1121.8739  4740.28715  9382.033   \n",
       "\n",
       "                   75%          max  \n",
       "age          51.000000     64.00000  \n",
       "bmi          34.693750     53.13000  \n",
       "children      2.000000      5.00000  \n",
       "charges   16639.912515  63770.42801  "
      ]
     },
     "execution_count": 34,
     "metadata": {},
     "output_type": "execute_result"
    }
   ],
   "source": [
    "#Describe our datasets\n",
    "df.describe().T"
   ]
  },
  {
   "cell_type": "markdown",
   "id": "81c924d0",
   "metadata": {},
   "source": [
    "## Preprocessing Our Datasets\n",
    "Okay so we have successfully explore our dataset and gained more insight from it. Now, we are going to start preprocessing our datasets. We are going to convert all the categorical features into numerical features and also scale our dataset to be in one scale. So, without wasting much time, lets get started but before we even start, lets split our dataset into training and test dataset."
   ]
  },
  {
   "cell_type": "code",
   "execution_count": 35,
   "id": "412e26d3",
   "metadata": {},
   "outputs": [
    {
     "data": {
      "text/html": [
       "<div>\n",
       "<style scoped>\n",
       "    .dataframe tbody tr th:only-of-type {\n",
       "        vertical-align: middle;\n",
       "    }\n",
       "\n",
       "    .dataframe tbody tr th {\n",
       "        vertical-align: top;\n",
       "    }\n",
       "\n",
       "    .dataframe thead th {\n",
       "        text-align: right;\n",
       "    }\n",
       "</style>\n",
       "<table border=\"1\" class=\"dataframe\">\n",
       "  <thead>\n",
       "    <tr style=\"text-align: right;\">\n",
       "      <th></th>\n",
       "      <th>age</th>\n",
       "      <th>sex</th>\n",
       "      <th>bmi</th>\n",
       "      <th>children</th>\n",
       "      <th>smoker</th>\n",
       "      <th>region</th>\n",
       "      <th>charges</th>\n",
       "    </tr>\n",
       "  </thead>\n",
       "  <tbody>\n",
       "    <tr>\n",
       "      <th>0</th>\n",
       "      <td>19</td>\n",
       "      <td>female</td>\n",
       "      <td>27.900</td>\n",
       "      <td>0</td>\n",
       "      <td>yes</td>\n",
       "      <td>southwest</td>\n",
       "      <td>16884.92400</td>\n",
       "    </tr>\n",
       "    <tr>\n",
       "      <th>1</th>\n",
       "      <td>18</td>\n",
       "      <td>male</td>\n",
       "      <td>33.770</td>\n",
       "      <td>1</td>\n",
       "      <td>no</td>\n",
       "      <td>southeast</td>\n",
       "      <td>1725.55230</td>\n",
       "    </tr>\n",
       "    <tr>\n",
       "      <th>2</th>\n",
       "      <td>28</td>\n",
       "      <td>male</td>\n",
       "      <td>33.000</td>\n",
       "      <td>3</td>\n",
       "      <td>no</td>\n",
       "      <td>southeast</td>\n",
       "      <td>4449.46200</td>\n",
       "    </tr>\n",
       "    <tr>\n",
       "      <th>3</th>\n",
       "      <td>33</td>\n",
       "      <td>male</td>\n",
       "      <td>22.705</td>\n",
       "      <td>0</td>\n",
       "      <td>no</td>\n",
       "      <td>northwest</td>\n",
       "      <td>21984.47061</td>\n",
       "    </tr>\n",
       "    <tr>\n",
       "      <th>4</th>\n",
       "      <td>32</td>\n",
       "      <td>male</td>\n",
       "      <td>28.880</td>\n",
       "      <td>0</td>\n",
       "      <td>no</td>\n",
       "      <td>northwest</td>\n",
       "      <td>3866.85520</td>\n",
       "    </tr>\n",
       "  </tbody>\n",
       "</table>\n",
       "</div>"
      ],
      "text/plain": [
       "   age     sex     bmi  children smoker     region      charges\n",
       "0   19  female  27.900         0    yes  southwest  16884.92400\n",
       "1   18    male  33.770         1     no  southeast   1725.55230\n",
       "2   28    male  33.000         3     no  southeast   4449.46200\n",
       "3   33    male  22.705         0     no  northwest  21984.47061\n",
       "4   32    male  28.880         0     no  northwest   3866.85520"
      ]
     },
     "execution_count": 35,
     "metadata": {},
     "output_type": "execute_result"
    }
   ],
   "source": [
    "#Make a copy of our datasets\n",
    "df_copy=df.copy()\n",
    "\n",
    "#Display datasets\n",
    "df_copy.head()"
   ]
  },
  {
   "cell_type": "code",
   "execution_count": 36,
   "id": "539f6a1b",
   "metadata": {},
   "outputs": [],
   "source": [
    "#Split dataset into features and labels\n",
    "x=df_copy.drop(\"charges\", axis=1)\n",
    "y=df_copy[\"charges\"]"
   ]
  },
  {
   "cell_type": "code",
   "execution_count": 37,
   "id": "06531b90",
   "metadata": {},
   "outputs": [],
   "source": [
    "#Split dataset into training and test datasets\n",
    "x_train, x_test, y_train, y_test = train_test_split(x,\n",
    "                                                    y,\n",
    "                                                    test_size=0.2,\n",
    "                                                    random_state=45,\n",
    "                                                    shuffle=True)"
   ]
  },
  {
   "cell_type": "code",
   "execution_count": 38,
   "id": "c255f19b",
   "metadata": {},
   "outputs": [
    {
     "name": "stdout",
     "output_type": "stream",
     "text": [
      "y_train dataset: (1070,)\n",
      "x_train datset: (1070, 6)\n",
      "x_test dataset: (268, 6)\n",
      "y_test dataset: (268,)\n"
     ]
    }
   ],
   "source": [
    "#Check splited dataset sizes\n",
    "print(f\"y_train dataset: {y_train.shape}\")\n",
    "print(f\"x_train datset: {x_train.shape}\")\n",
    "print(f\"x_test dataset: {x_test.shape}\")\n",
    "print(f\"y_test dataset: {y_test.shape}\")"
   ]
  },
  {
   "cell_type": "markdown",
   "id": "763e69ee",
   "metadata": {},
   "source": [
    "## Preprocess Datasets\n",
    "\n",
    "Okay so now that we are done exploring our datasets, its time to preprocess it now. We are going to create a class to perform this task. Bellow are what we will be doing to preprocess our datasets:\n",
    "\n",
    "* Deal with outliers.\n",
    "* Convert Categorical or Object features to numeric.\n",
    "* Scale numeric datasets\n",
    "\n",
    "### Dealing with outliers.\n",
    "Some common ways of dealing with outliers are as follows:\n",
    "1. Removing them\n",
    "2. Reducing max values\n",
    "* Capping\n",
    "  * zscore -- If feature is normally distributed\n",
    "  * IQR -- If feature is not normally distributed\n",
    " \n",
    "* Triming\n",
    "  * zscore -- If feature is normally distributed\n",
    "  * IQR -- If feature is not normally distributed\n",
    "  \n",
    "3. Reducing min values\n",
    "* Capping\n",
    "  * zscore -- If feature is normally distributed\n",
    "  * IQR -- If feature is not normally distributed\n",
    " \n",
    "* Triming\n",
    "  * zscore -- If feature is normally distributed\n",
    "  * IQR -- If feature is not normally distributed\n",
    "  \n",
    "Since bmi feature is normally distributed, we will be using z-score capping method deal with the outliers in it. So without wasting much time, let's get started now."
   ]
  },
  {
   "cell_type": "code",
   "execution_count": 122,
   "id": "1c318a3e",
   "metadata": {},
   "outputs": [],
   "source": [
    "#Deal with outliers\n",
    "class CapeOutliers:\n",
    "    \n",
    "    @classmethod\n",
    "    def ZScoreCapping(self, col, thr, dataset):\n",
    "        \n",
    "        #Make a copy of dataset\n",
    "        new_dataset = dataset.copy()\n",
    "        \n",
    "        #Perform capping\n",
    "        mean = new_dataset[col].mean()\n",
    "        std = new_dataset[col].std()\n",
    "        \n",
    "        upper_bound = mean + thr*std\n",
    "        lower_bound = mean - thr*std\n",
    "        \n",
    "        new_dataset[col] = np.where(new_dataset[col]>upper_bound, upper_bound,\n",
    "                np.where(new_dataset[col]<lower_bound, lower_bound, new_dataset[col]))\n",
    "        \n",
    "        return new_dataset"
   ]
  },
  {
   "cell_type": "code",
   "execution_count": 123,
   "id": "83907e94",
   "metadata": {},
   "outputs": [
    {
     "data": {
      "text/html": [
       "<div>\n",
       "<style scoped>\n",
       "    .dataframe tbody tr th:only-of-type {\n",
       "        vertical-align: middle;\n",
       "    }\n",
       "\n",
       "    .dataframe tbody tr th {\n",
       "        vertical-align: top;\n",
       "    }\n",
       "\n",
       "    .dataframe thead th {\n",
       "        text-align: right;\n",
       "    }\n",
       "</style>\n",
       "<table border=\"1\" class=\"dataframe\">\n",
       "  <thead>\n",
       "    <tr style=\"text-align: right;\">\n",
       "      <th></th>\n",
       "      <th>count</th>\n",
       "      <th>mean</th>\n",
       "      <th>std</th>\n",
       "      <th>min</th>\n",
       "      <th>25%</th>\n",
       "      <th>50%</th>\n",
       "      <th>75%</th>\n",
       "      <th>max</th>\n",
       "    </tr>\n",
       "  </thead>\n",
       "  <tbody>\n",
       "    <tr>\n",
       "      <th>age</th>\n",
       "      <td>1070.0</td>\n",
       "      <td>38.852336</td>\n",
       "      <td>14.133755</td>\n",
       "      <td>18.00</td>\n",
       "      <td>26.00</td>\n",
       "      <td>39.00</td>\n",
       "      <td>51.0</td>\n",
       "      <td>64.000000</td>\n",
       "    </tr>\n",
       "    <tr>\n",
       "      <th>bmi</th>\n",
       "      <td>1070.0</td>\n",
       "      <td>30.574284</td>\n",
       "      <td>6.054169</td>\n",
       "      <td>15.96</td>\n",
       "      <td>26.22</td>\n",
       "      <td>30.23</td>\n",
       "      <td>34.4</td>\n",
       "      <td>48.834732</td>\n",
       "    </tr>\n",
       "    <tr>\n",
       "      <th>children</th>\n",
       "      <td>1070.0</td>\n",
       "      <td>1.063551</td>\n",
       "      <td>1.204792</td>\n",
       "      <td>0.00</td>\n",
       "      <td>0.00</td>\n",
       "      <td>1.00</td>\n",
       "      <td>2.0</td>\n",
       "      <td>5.000000</td>\n",
       "    </tr>\n",
       "  </tbody>\n",
       "</table>\n",
       "</div>"
      ],
      "text/plain": [
       "           count       mean        std    min    25%    50%   75%        max\n",
       "age       1070.0  38.852336  14.133755  18.00  26.00  39.00  51.0  64.000000\n",
       "bmi       1070.0  30.574284   6.054169  15.96  26.22  30.23  34.4  48.834732\n",
       "children  1070.0   1.063551   1.204792   0.00   0.00   1.00   2.0   5.000000"
      ]
     },
     "execution_count": 123,
     "metadata": {},
     "output_type": "execute_result"
    }
   ],
   "source": [
    "#handle outlier in dataset\n",
    "x_train_bmi=CapeOutliers.ZScoreCapping(\"bmi\", 3, x_train)\n",
    "x_test_bmi=CapeOutliers.ZScoreCapping(\"bmi\", 3, x_test)\n",
    "\n",
    "#Describe Results\n",
    "x_train_bmi.describe().T"
   ]
  },
  {
   "cell_type": "code",
   "execution_count": 124,
   "id": "3e645786",
   "metadata": {},
   "outputs": [
    {
     "data": {
      "text/html": [
       "<div>\n",
       "<style scoped>\n",
       "    .dataframe tbody tr th:only-of-type {\n",
       "        vertical-align: middle;\n",
       "    }\n",
       "\n",
       "    .dataframe tbody tr th {\n",
       "        vertical-align: top;\n",
       "    }\n",
       "\n",
       "    .dataframe thead th {\n",
       "        text-align: right;\n",
       "    }\n",
       "</style>\n",
       "<table border=\"1\" class=\"dataframe\">\n",
       "  <thead>\n",
       "    <tr style=\"text-align: right;\">\n",
       "      <th></th>\n",
       "      <th>count</th>\n",
       "      <th>mean</th>\n",
       "      <th>std</th>\n",
       "      <th>min</th>\n",
       "      <th>25%</th>\n",
       "      <th>50%</th>\n",
       "      <th>75%</th>\n",
       "      <th>max</th>\n",
       "    </tr>\n",
       "  </thead>\n",
       "  <tbody>\n",
       "    <tr>\n",
       "      <th>age</th>\n",
       "      <td>1070.0</td>\n",
       "      <td>38.852336</td>\n",
       "      <td>14.133755</td>\n",
       "      <td>18.00</td>\n",
       "      <td>26.00</td>\n",
       "      <td>39.00</td>\n",
       "      <td>51.0</td>\n",
       "      <td>64.00</td>\n",
       "    </tr>\n",
       "    <tr>\n",
       "      <th>bmi</th>\n",
       "      <td>1070.0</td>\n",
       "      <td>30.583243</td>\n",
       "      <td>6.083830</td>\n",
       "      <td>15.96</td>\n",
       "      <td>26.22</td>\n",
       "      <td>30.23</td>\n",
       "      <td>34.4</td>\n",
       "      <td>53.13</td>\n",
       "    </tr>\n",
       "    <tr>\n",
       "      <th>children</th>\n",
       "      <td>1070.0</td>\n",
       "      <td>1.063551</td>\n",
       "      <td>1.204792</td>\n",
       "      <td>0.00</td>\n",
       "      <td>0.00</td>\n",
       "      <td>1.00</td>\n",
       "      <td>2.0</td>\n",
       "      <td>5.00</td>\n",
       "    </tr>\n",
       "  </tbody>\n",
       "</table>\n",
       "</div>"
      ],
      "text/plain": [
       "           count       mean        std    min    25%    50%   75%    max\n",
       "age       1070.0  38.852336  14.133755  18.00  26.00  39.00  51.0  64.00\n",
       "bmi       1070.0  30.583243   6.083830  15.96  26.22  30.23  34.4  53.13\n",
       "children  1070.0   1.063551   1.204792   0.00   0.00   1.00   2.0   5.00"
      ]
     },
     "execution_count": 124,
     "metadata": {},
     "output_type": "execute_result"
    }
   ],
   "source": [
    "#Describe original dataset\n",
    "x_train.describe().T"
   ]
  },
  {
   "cell_type": "code",
   "execution_count": 125,
   "id": "d75eefbc",
   "metadata": {},
   "outputs": [
    {
     "data": {
      "text/html": [
       "<div>\n",
       "<style scoped>\n",
       "    .dataframe tbody tr th:only-of-type {\n",
       "        vertical-align: middle;\n",
       "    }\n",
       "\n",
       "    .dataframe tbody tr th {\n",
       "        vertical-align: top;\n",
       "    }\n",
       "\n",
       "    .dataframe thead th {\n",
       "        text-align: right;\n",
       "    }\n",
       "</style>\n",
       "<table border=\"1\" class=\"dataframe\">\n",
       "  <thead>\n",
       "    <tr style=\"text-align: right;\">\n",
       "      <th></th>\n",
       "      <th>count</th>\n",
       "      <th>mean</th>\n",
       "      <th>std</th>\n",
       "      <th>min</th>\n",
       "      <th>25%</th>\n",
       "      <th>50%</th>\n",
       "      <th>75%</th>\n",
       "      <th>max</th>\n",
       "    </tr>\n",
       "  </thead>\n",
       "  <tbody>\n",
       "    <tr>\n",
       "      <th>age</th>\n",
       "      <td>268.0</td>\n",
       "      <td>40.623134</td>\n",
       "      <td>13.644351</td>\n",
       "      <td>18.000</td>\n",
       "      <td>29.00</td>\n",
       "      <td>41.5</td>\n",
       "      <td>52.00000</td>\n",
       "      <td>64.00</td>\n",
       "    </tr>\n",
       "    <tr>\n",
       "      <th>bmi</th>\n",
       "      <td>268.0</td>\n",
       "      <td>30.983414</td>\n",
       "      <td>6.156206</td>\n",
       "      <td>18.335</td>\n",
       "      <td>26.55</td>\n",
       "      <td>30.8</td>\n",
       "      <td>35.55375</td>\n",
       "      <td>49.06</td>\n",
       "    </tr>\n",
       "    <tr>\n",
       "      <th>children</th>\n",
       "      <td>268.0</td>\n",
       "      <td>1.220149</td>\n",
       "      <td>1.202387</td>\n",
       "      <td>0.000</td>\n",
       "      <td>0.00</td>\n",
       "      <td>1.0</td>\n",
       "      <td>2.00000</td>\n",
       "      <td>5.00</td>\n",
       "    </tr>\n",
       "  </tbody>\n",
       "</table>\n",
       "</div>"
      ],
      "text/plain": [
       "          count       mean        std     min    25%   50%       75%    max\n",
       "age       268.0  40.623134  13.644351  18.000  29.00  41.5  52.00000  64.00\n",
       "bmi       268.0  30.983414   6.156206  18.335  26.55  30.8  35.55375  49.06\n",
       "children  268.0   1.220149   1.202387   0.000   0.00   1.0   2.00000   5.00"
      ]
     },
     "execution_count": 125,
     "metadata": {},
     "output_type": "execute_result"
    }
   ],
   "source": [
    "#Describe x_test bmi\n",
    "x_test_bmi.describe().T"
   ]
  },
  {
   "cell_type": "code",
   "execution_count": 126,
   "id": "8af0ae8f",
   "metadata": {},
   "outputs": [
    {
     "data": {
      "text/html": [
       "<div>\n",
       "<style scoped>\n",
       "    .dataframe tbody tr th:only-of-type {\n",
       "        vertical-align: middle;\n",
       "    }\n",
       "\n",
       "    .dataframe tbody tr th {\n",
       "        vertical-align: top;\n",
       "    }\n",
       "\n",
       "    .dataframe thead th {\n",
       "        text-align: right;\n",
       "    }\n",
       "</style>\n",
       "<table border=\"1\" class=\"dataframe\">\n",
       "  <thead>\n",
       "    <tr style=\"text-align: right;\">\n",
       "      <th></th>\n",
       "      <th>count</th>\n",
       "      <th>mean</th>\n",
       "      <th>std</th>\n",
       "      <th>min</th>\n",
       "      <th>25%</th>\n",
       "      <th>50%</th>\n",
       "      <th>75%</th>\n",
       "      <th>max</th>\n",
       "    </tr>\n",
       "  </thead>\n",
       "  <tbody>\n",
       "    <tr>\n",
       "      <th>age</th>\n",
       "      <td>268.0</td>\n",
       "      <td>40.623134</td>\n",
       "      <td>13.644351</td>\n",
       "      <td>18.000</td>\n",
       "      <td>29.00</td>\n",
       "      <td>41.5</td>\n",
       "      <td>52.00000</td>\n",
       "      <td>64.00</td>\n",
       "    </tr>\n",
       "    <tr>\n",
       "      <th>bmi</th>\n",
       "      <td>268.0</td>\n",
       "      <td>30.983414</td>\n",
       "      <td>6.156206</td>\n",
       "      <td>18.335</td>\n",
       "      <td>26.55</td>\n",
       "      <td>30.8</td>\n",
       "      <td>35.55375</td>\n",
       "      <td>49.06</td>\n",
       "    </tr>\n",
       "    <tr>\n",
       "      <th>children</th>\n",
       "      <td>268.0</td>\n",
       "      <td>1.220149</td>\n",
       "      <td>1.202387</td>\n",
       "      <td>0.000</td>\n",
       "      <td>0.00</td>\n",
       "      <td>1.0</td>\n",
       "      <td>2.00000</td>\n",
       "      <td>5.00</td>\n",
       "    </tr>\n",
       "  </tbody>\n",
       "</table>\n",
       "</div>"
      ],
      "text/plain": [
       "          count       mean        std     min    25%   50%       75%    max\n",
       "age       268.0  40.623134  13.644351  18.000  29.00  41.5  52.00000  64.00\n",
       "bmi       268.0  30.983414   6.156206  18.335  26.55  30.8  35.55375  49.06\n",
       "children  268.0   1.220149   1.202387   0.000   0.00   1.0   2.00000   5.00"
      ]
     },
     "execution_count": 126,
     "metadata": {},
     "output_type": "execute_result"
    }
   ],
   "source": [
    "#Describe x_test\n",
    "x_test.describe().T"
   ]
  },
  {
   "cell_type": "markdown",
   "id": "bb7a515c",
   "metadata": {},
   "source": [
    "From above, comparing the max value of `x_train_bmi` with `x_train`, we can see that the max value has decreased.\n",
    "\n",
    "So now that we have successfully dealt with outliears in our dataset, we are now going to convert our categorical features into numeric and scale our dataset as well so lets get started now.\n",
    "\n",
    "#### Scalling\n",
    "\n",
    "There are many techniques to perform feature scaling. But how do we know which scaling technique to use? Well thats very simple:\n",
    "\n",
    "1. If your dataset is normally distributed use: `StandardScaler`\n",
    "2. If your dataset is not normally distributed, use any of the following:\n",
    "    * RobustScaler\n",
    "    * MinMaxScaler\n",
    "    * MaxAbsScaler\n",
    "    \n",
    "In our case, we will be using `StandardScaler` to scale `bmi` feature and use `MinMaxScaler` for other features.\n",
    "\n",
    "**Note:** Ther are also more additional scaling techniques out there.\n"
   ]
  },
  {
   "cell_type": "code",
   "execution_count": 127,
   "id": "18d40254",
   "metadata": {},
   "outputs": [
    {
     "data": {
      "text/html": [
       "<div>\n",
       "<style scoped>\n",
       "    .dataframe tbody tr th:only-of-type {\n",
       "        vertical-align: middle;\n",
       "    }\n",
       "\n",
       "    .dataframe tbody tr th {\n",
       "        vertical-align: top;\n",
       "    }\n",
       "\n",
       "    .dataframe thead th {\n",
       "        text-align: right;\n",
       "    }\n",
       "</style>\n",
       "<table border=\"1\" class=\"dataframe\">\n",
       "  <thead>\n",
       "    <tr style=\"text-align: right;\">\n",
       "      <th></th>\n",
       "      <th>age</th>\n",
       "      <th>sex</th>\n",
       "      <th>bmi</th>\n",
       "      <th>children</th>\n",
       "      <th>smoker</th>\n",
       "      <th>region</th>\n",
       "    </tr>\n",
       "  </thead>\n",
       "  <tbody>\n",
       "    <tr>\n",
       "      <th>1075</th>\n",
       "      <td>32</td>\n",
       "      <td>female</td>\n",
       "      <td>29.59</td>\n",
       "      <td>1</td>\n",
       "      <td>no</td>\n",
       "      <td>southeast</td>\n",
       "    </tr>\n",
       "    <tr>\n",
       "      <th>761</th>\n",
       "      <td>23</td>\n",
       "      <td>male</td>\n",
       "      <td>35.20</td>\n",
       "      <td>1</td>\n",
       "      <td>no</td>\n",
       "      <td>southwest</td>\n",
       "    </tr>\n",
       "    <tr>\n",
       "      <th>6</th>\n",
       "      <td>46</td>\n",
       "      <td>female</td>\n",
       "      <td>33.44</td>\n",
       "      <td>1</td>\n",
       "      <td>no</td>\n",
       "      <td>southeast</td>\n",
       "    </tr>\n",
       "    <tr>\n",
       "      <th>1171</th>\n",
       "      <td>43</td>\n",
       "      <td>female</td>\n",
       "      <td>26.70</td>\n",
       "      <td>2</td>\n",
       "      <td>yes</td>\n",
       "      <td>southwest</td>\n",
       "    </tr>\n",
       "    <tr>\n",
       "      <th>127</th>\n",
       "      <td>52</td>\n",
       "      <td>female</td>\n",
       "      <td>37.40</td>\n",
       "      <td>0</td>\n",
       "      <td>no</td>\n",
       "      <td>southwest</td>\n",
       "    </tr>\n",
       "  </tbody>\n",
       "</table>\n",
       "</div>"
      ],
      "text/plain": [
       "      age     sex    bmi  children smoker     region\n",
       "1075   32  female  29.59         1     no  southeast\n",
       "761    23    male  35.20         1     no  southwest\n",
       "6      46  female  33.44         1     no  southeast\n",
       "1171   43  female  26.70         2    yes  southwest\n",
       "127    52  female  37.40         0     no  southwest"
      ]
     },
     "execution_count": 127,
     "metadata": {},
     "output_type": "execute_result"
    }
   ],
   "source": [
    "#Display datasets\n",
    "x_train_bmi.head()"
   ]
  },
  {
   "cell_type": "code",
   "execution_count": 128,
   "id": "768d6486",
   "metadata": {},
   "outputs": [],
   "source": [
    "#Onehot encode categorical features\n",
    "_onehot = Pipeline([(\"one-hot-encode\", OneHotEncoder(sparse=False))])\n",
    "\n",
    "#Scale BMI using Standard Scaler\n",
    "_scale_bmi = Pipeline([(\"scale-bmi\", StandardScaler())])        \n",
    "\n",
    "#Scale Children using MinMaxScaler\n",
    "_scale_children = Pipeline([(\"scale-children\", MinMaxScaler())])\n",
    "\n",
    "#Scale Age using MinMaxScaler\n",
    "_scale_age = Pipeline([(\"scale-age\", MinMaxScaler())])\n",
    "\n",
    "# Intialize column transformer\n",
    "col = ColumnTransformer([\n",
    "    (\"onehot-pipeline\", _onehot, [\"region\",\"smoker\",\"sex\"]),\n",
    "    (\"children-pipeline\", _scale_children, [\"children\"]),\n",
    "    (\"bmi-pipeline\", _scale_bmi, [\"bmi\"]),\n",
    "    (\"age-pipeline\", _scale_age, [\"age\"])\n",
    "], remainder=\"passthrough\")\n"
   ]
  },
  {
   "cell_type": "code",
   "execution_count": 129,
   "id": "ecc3a3b5",
   "metadata": {},
   "outputs": [],
   "source": [
    "#Fit and transform on train and test dataset\n",
    "p_xtrain = col.fit_transform(x_train_bmi)\n",
    "p_xtest = col.transform(x_test_bmi)"
   ]
  },
  {
   "cell_type": "code",
   "execution_count": 130,
   "id": "e116f4de",
   "metadata": {},
   "outputs": [
    {
     "data": {
      "text/plain": [
       "array([[ 0.        ,  0.        ,  1.        , ...,  0.2       ,\n",
       "        -0.16265561,  0.30434783],\n",
       "       [ 0.        ,  0.        ,  0.        , ...,  0.2       ,\n",
       "         0.76441186,  0.10869565],\n",
       "       [ 0.        ,  0.        ,  1.        , ...,  0.2       ,\n",
       "         0.47356716,  0.60869565],\n",
       "       ...,\n",
       "       [ 0.        ,  1.        ,  0.        , ...,  0.        ,\n",
       "        -1.14343019,  0.89130435],\n",
       "       [ 0.        ,  1.        ,  0.        , ...,  0.        ,\n",
       "         0.75614923,  0.02173913],\n",
       "       [ 1.        ,  0.        ,  0.        , ...,  0.        ,\n",
       "        -1.15912919,  0.34782609]])"
      ]
     },
     "execution_count": 130,
     "metadata": {},
     "output_type": "execute_result"
    }
   ],
   "source": [
    "#Display onehot encoded x_train dataset\n",
    "p_xtrain"
   ]
  },
  {
   "cell_type": "code",
   "execution_count": 131,
   "id": "4a88b7c1",
   "metadata": {},
   "outputs": [
    {
     "data": {
      "text/plain": [
       "array([[ 0.        ,  1.        ,  0.        , ...,  0.2       ,\n",
       "        -0.37417902,  0.08695652],\n",
       "       [ 0.        ,  0.        ,  1.        , ...,  0.4       ,\n",
       "        -0.12630002,  0.56521739],\n",
       "       [ 0.        ,  1.        ,  0.        , ...,  0.6       ,\n",
       "         0.12818909,  0.91304348],\n",
       "       ...,\n",
       "       [ 0.        ,  0.        ,  1.        , ...,  0.4       ,\n",
       "         0.87347862,  0.36956522],\n",
       "       [ 1.        ,  0.        ,  0.        , ...,  0.        ,\n",
       "        -0.43697503,  0.26086957],\n",
       "       [ 0.        ,  0.        ,  0.        , ...,  0.        ,\n",
       "        -0.92116535,  0.95652174]])"
      ]
     },
     "execution_count": 131,
     "metadata": {},
     "output_type": "execute_result"
    }
   ],
   "source": [
    "#Display onehot encoded x_test\n",
    "p_xtest"
   ]
  },
  {
   "cell_type": "code",
   "execution_count": 132,
   "id": "b3dbb98e",
   "metadata": {},
   "outputs": [
    {
     "data": {
      "text/plain": [
       "array(['x0_northeast', 'x0_northwest', 'x0_southeast', 'x0_southwest',\n",
       "       'x1_no', 'x1_yes', 'x2_female', 'x2_male'], dtype=object)"
      ]
     },
     "execution_count": 132,
     "metadata": {},
     "output_type": "execute_result"
    }
   ],
   "source": [
    "col.named_transformers_['onehot-pipeline'].named_steps['one-hot-encode'].get_feature_names()"
   ]
  },
  {
   "cell_type": "code",
   "execution_count": 133,
   "id": "e3e221fe",
   "metadata": {},
   "outputs": [
    {
     "data": {
      "text/html": [
       "<div>\n",
       "<style scoped>\n",
       "    .dataframe tbody tr th:only-of-type {\n",
       "        vertical-align: middle;\n",
       "    }\n",
       "\n",
       "    .dataframe tbody tr th {\n",
       "        vertical-align: top;\n",
       "    }\n",
       "\n",
       "    .dataframe thead th {\n",
       "        text-align: right;\n",
       "    }\n",
       "</style>\n",
       "<table border=\"1\" class=\"dataframe\">\n",
       "  <thead>\n",
       "    <tr style=\"text-align: right;\">\n",
       "      <th></th>\n",
       "      <th>0</th>\n",
       "      <th>1</th>\n",
       "      <th>2</th>\n",
       "      <th>3</th>\n",
       "      <th>4</th>\n",
       "      <th>5</th>\n",
       "      <th>6</th>\n",
       "      <th>7</th>\n",
       "      <th>8</th>\n",
       "      <th>9</th>\n",
       "      <th>10</th>\n",
       "    </tr>\n",
       "  </thead>\n",
       "  <tbody>\n",
       "    <tr>\n",
       "      <th>0</th>\n",
       "      <td>0.0</td>\n",
       "      <td>0.0</td>\n",
       "      <td>1.0</td>\n",
       "      <td>0.0</td>\n",
       "      <td>1.0</td>\n",
       "      <td>0.0</td>\n",
       "      <td>1.0</td>\n",
       "      <td>0.0</td>\n",
       "      <td>0.2</td>\n",
       "      <td>-0.162656</td>\n",
       "      <td>0.304348</td>\n",
       "    </tr>\n",
       "    <tr>\n",
       "      <th>1</th>\n",
       "      <td>0.0</td>\n",
       "      <td>0.0</td>\n",
       "      <td>0.0</td>\n",
       "      <td>1.0</td>\n",
       "      <td>1.0</td>\n",
       "      <td>0.0</td>\n",
       "      <td>0.0</td>\n",
       "      <td>1.0</td>\n",
       "      <td>0.2</td>\n",
       "      <td>0.764412</td>\n",
       "      <td>0.108696</td>\n",
       "    </tr>\n",
       "    <tr>\n",
       "      <th>2</th>\n",
       "      <td>0.0</td>\n",
       "      <td>0.0</td>\n",
       "      <td>1.0</td>\n",
       "      <td>0.0</td>\n",
       "      <td>1.0</td>\n",
       "      <td>0.0</td>\n",
       "      <td>1.0</td>\n",
       "      <td>0.0</td>\n",
       "      <td>0.2</td>\n",
       "      <td>0.473567</td>\n",
       "      <td>0.608696</td>\n",
       "    </tr>\n",
       "    <tr>\n",
       "      <th>3</th>\n",
       "      <td>0.0</td>\n",
       "      <td>0.0</td>\n",
       "      <td>0.0</td>\n",
       "      <td>1.0</td>\n",
       "      <td>0.0</td>\n",
       "      <td>1.0</td>\n",
       "      <td>1.0</td>\n",
       "      <td>0.0</td>\n",
       "      <td>0.4</td>\n",
       "      <td>-0.640236</td>\n",
       "      <td>0.543478</td>\n",
       "    </tr>\n",
       "    <tr>\n",
       "      <th>4</th>\n",
       "      <td>0.0</td>\n",
       "      <td>0.0</td>\n",
       "      <td>0.0</td>\n",
       "      <td>1.0</td>\n",
       "      <td>1.0</td>\n",
       "      <td>0.0</td>\n",
       "      <td>1.0</td>\n",
       "      <td>0.0</td>\n",
       "      <td>0.0</td>\n",
       "      <td>1.127968</td>\n",
       "      <td>0.739130</td>\n",
       "    </tr>\n",
       "  </tbody>\n",
       "</table>\n",
       "</div>"
      ],
      "text/plain": [
       "    0    1    2    3    4    5    6    7    8         9         10\n",
       "0  0.0  0.0  1.0  0.0  1.0  0.0  1.0  0.0  0.2 -0.162656  0.304348\n",
       "1  0.0  0.0  0.0  1.0  1.0  0.0  0.0  1.0  0.2  0.764412  0.108696\n",
       "2  0.0  0.0  1.0  0.0  1.0  0.0  1.0  0.0  0.2  0.473567  0.608696\n",
       "3  0.0  0.0  0.0  1.0  0.0  1.0  1.0  0.0  0.4 -0.640236  0.543478\n",
       "4  0.0  0.0  0.0  1.0  1.0  0.0  1.0  0.0  0.0  1.127968  0.739130"
      ]
     },
     "execution_count": 133,
     "metadata": {},
     "output_type": "execute_result"
    }
   ],
   "source": [
    "#Display preprocessed dataset\n",
    "pd.DataFrame(p_xtrain).head()"
   ]
  },
  {
   "cell_type": "code",
   "execution_count": 134,
   "id": "6fc780eb",
   "metadata": {},
   "outputs": [
    {
     "data": {
      "text/html": [
       "<div>\n",
       "<style scoped>\n",
       "    .dataframe tbody tr th:only-of-type {\n",
       "        vertical-align: middle;\n",
       "    }\n",
       "\n",
       "    .dataframe tbody tr th {\n",
       "        vertical-align: top;\n",
       "    }\n",
       "\n",
       "    .dataframe thead th {\n",
       "        text-align: right;\n",
       "    }\n",
       "</style>\n",
       "<table border=\"1\" class=\"dataframe\">\n",
       "  <thead>\n",
       "    <tr style=\"text-align: right;\">\n",
       "      <th></th>\n",
       "      <th>age</th>\n",
       "      <th>sex</th>\n",
       "      <th>bmi</th>\n",
       "      <th>children</th>\n",
       "      <th>smoker</th>\n",
       "      <th>region</th>\n",
       "    </tr>\n",
       "  </thead>\n",
       "  <tbody>\n",
       "    <tr>\n",
       "      <th>1075</th>\n",
       "      <td>32</td>\n",
       "      <td>female</td>\n",
       "      <td>29.59</td>\n",
       "      <td>1</td>\n",
       "      <td>no</td>\n",
       "      <td>southeast</td>\n",
       "    </tr>\n",
       "    <tr>\n",
       "      <th>761</th>\n",
       "      <td>23</td>\n",
       "      <td>male</td>\n",
       "      <td>35.20</td>\n",
       "      <td>1</td>\n",
       "      <td>no</td>\n",
       "      <td>southwest</td>\n",
       "    </tr>\n",
       "    <tr>\n",
       "      <th>6</th>\n",
       "      <td>46</td>\n",
       "      <td>female</td>\n",
       "      <td>33.44</td>\n",
       "      <td>1</td>\n",
       "      <td>no</td>\n",
       "      <td>southeast</td>\n",
       "    </tr>\n",
       "    <tr>\n",
       "      <th>1171</th>\n",
       "      <td>43</td>\n",
       "      <td>female</td>\n",
       "      <td>26.70</td>\n",
       "      <td>2</td>\n",
       "      <td>yes</td>\n",
       "      <td>southwest</td>\n",
       "    </tr>\n",
       "    <tr>\n",
       "      <th>127</th>\n",
       "      <td>52</td>\n",
       "      <td>female</td>\n",
       "      <td>37.40</td>\n",
       "      <td>0</td>\n",
       "      <td>no</td>\n",
       "      <td>southwest</td>\n",
       "    </tr>\n",
       "  </tbody>\n",
       "</table>\n",
       "</div>"
      ],
      "text/plain": [
       "      age     sex    bmi  children smoker     region\n",
       "1075   32  female  29.59         1     no  southeast\n",
       "761    23    male  35.20         1     no  southwest\n",
       "6      46  female  33.44         1     no  southeast\n",
       "1171   43  female  26.70         2    yes  southwest\n",
       "127    52  female  37.40         0     no  southwest"
      ]
     },
     "execution_count": 134,
     "metadata": {},
     "output_type": "execute_result"
    }
   ],
   "source": [
    "x_train.head()"
   ]
  },
  {
   "cell_type": "code",
   "execution_count": 135,
   "id": "9d62954f",
   "metadata": {},
   "outputs": [],
   "source": [
    "#Convert p_xtrain and p_xtest into a dataframe\n",
    "xtrain_data = pd.DataFrame(p_xtrain, columns=['x0_northeast', \n",
    "                                              'x0_northwest', \n",
    "                                              'x0_southeast', \n",
    "                                              'x0_southwest',\n",
    "                                              'x1_no', \n",
    "                                              'x1_yes', \n",
    "                                              'x2_female', \n",
    "                                              'x2_male',\n",
    "                                              'children',\n",
    "                                              'age', \n",
    "                                              'bmi'])\n",
    "\n",
    "xtest_data = pd.DataFrame(p_xtest, columns=['x0_northeast', \n",
    "                                              'x0_northwest', \n",
    "                                              'x0_southeast', \n",
    "                                              'x0_southwest',\n",
    "                                              'x1_no', \n",
    "                                              'x1_yes', \n",
    "                                              'x2_female', \n",
    "                                              'x2_male',\n",
    "                                              'children',\n",
    "                                              'age', \n",
    "                                              'bmi'])"
   ]
  },
  {
   "cell_type": "code",
   "execution_count": 136,
   "id": "4e06e664",
   "metadata": {
    "scrolled": true
   },
   "outputs": [
    {
     "data": {
      "text/html": [
       "<div>\n",
       "<style scoped>\n",
       "    .dataframe tbody tr th:only-of-type {\n",
       "        vertical-align: middle;\n",
       "    }\n",
       "\n",
       "    .dataframe tbody tr th {\n",
       "        vertical-align: top;\n",
       "    }\n",
       "\n",
       "    .dataframe thead th {\n",
       "        text-align: right;\n",
       "    }\n",
       "</style>\n",
       "<table border=\"1\" class=\"dataframe\">\n",
       "  <thead>\n",
       "    <tr style=\"text-align: right;\">\n",
       "      <th></th>\n",
       "      <th>x0_northeast</th>\n",
       "      <th>x0_northwest</th>\n",
       "      <th>x0_southeast</th>\n",
       "      <th>x0_southwest</th>\n",
       "      <th>x1_no</th>\n",
       "      <th>x1_yes</th>\n",
       "      <th>x2_female</th>\n",
       "      <th>x2_male</th>\n",
       "      <th>children</th>\n",
       "      <th>age</th>\n",
       "      <th>bmi</th>\n",
       "    </tr>\n",
       "  </thead>\n",
       "  <tbody>\n",
       "    <tr>\n",
       "      <th>0</th>\n",
       "      <td>0.0</td>\n",
       "      <td>0.0</td>\n",
       "      <td>1.0</td>\n",
       "      <td>0.0</td>\n",
       "      <td>1.0</td>\n",
       "      <td>0.0</td>\n",
       "      <td>1.0</td>\n",
       "      <td>0.0</td>\n",
       "      <td>0.2</td>\n",
       "      <td>-0.162656</td>\n",
       "      <td>0.304348</td>\n",
       "    </tr>\n",
       "    <tr>\n",
       "      <th>1</th>\n",
       "      <td>0.0</td>\n",
       "      <td>0.0</td>\n",
       "      <td>0.0</td>\n",
       "      <td>1.0</td>\n",
       "      <td>1.0</td>\n",
       "      <td>0.0</td>\n",
       "      <td>0.0</td>\n",
       "      <td>1.0</td>\n",
       "      <td>0.2</td>\n",
       "      <td>0.764412</td>\n",
       "      <td>0.108696</td>\n",
       "    </tr>\n",
       "    <tr>\n",
       "      <th>2</th>\n",
       "      <td>0.0</td>\n",
       "      <td>0.0</td>\n",
       "      <td>1.0</td>\n",
       "      <td>0.0</td>\n",
       "      <td>1.0</td>\n",
       "      <td>0.0</td>\n",
       "      <td>1.0</td>\n",
       "      <td>0.0</td>\n",
       "      <td>0.2</td>\n",
       "      <td>0.473567</td>\n",
       "      <td>0.608696</td>\n",
       "    </tr>\n",
       "    <tr>\n",
       "      <th>3</th>\n",
       "      <td>0.0</td>\n",
       "      <td>0.0</td>\n",
       "      <td>0.0</td>\n",
       "      <td>1.0</td>\n",
       "      <td>0.0</td>\n",
       "      <td>1.0</td>\n",
       "      <td>1.0</td>\n",
       "      <td>0.0</td>\n",
       "      <td>0.4</td>\n",
       "      <td>-0.640236</td>\n",
       "      <td>0.543478</td>\n",
       "    </tr>\n",
       "    <tr>\n",
       "      <th>4</th>\n",
       "      <td>0.0</td>\n",
       "      <td>0.0</td>\n",
       "      <td>0.0</td>\n",
       "      <td>1.0</td>\n",
       "      <td>1.0</td>\n",
       "      <td>0.0</td>\n",
       "      <td>1.0</td>\n",
       "      <td>0.0</td>\n",
       "      <td>0.0</td>\n",
       "      <td>1.127968</td>\n",
       "      <td>0.739130</td>\n",
       "    </tr>\n",
       "  </tbody>\n",
       "</table>\n",
       "</div>"
      ],
      "text/plain": [
       "   x0_northeast  x0_northwest  x0_southeast  x0_southwest  x1_no  x1_yes  \\\n",
       "0           0.0           0.0           1.0           0.0    1.0     0.0   \n",
       "1           0.0           0.0           0.0           1.0    1.0     0.0   \n",
       "2           0.0           0.0           1.0           0.0    1.0     0.0   \n",
       "3           0.0           0.0           0.0           1.0    0.0     1.0   \n",
       "4           0.0           0.0           0.0           1.0    1.0     0.0   \n",
       "\n",
       "   x2_female  x2_male  children       age       bmi  \n",
       "0        1.0      0.0       0.2 -0.162656  0.304348  \n",
       "1        0.0      1.0       0.2  0.764412  0.108696  \n",
       "2        1.0      0.0       0.2  0.473567  0.608696  \n",
       "3        1.0      0.0       0.4 -0.640236  0.543478  \n",
       "4        1.0      0.0       0.0  1.127968  0.739130  "
      ]
     },
     "execution_count": 136,
     "metadata": {},
     "output_type": "execute_result"
    }
   ],
   "source": [
    "#Display final xtrain results after preprocessing\n",
    "xtrain_data.head()"
   ]
  },
  {
   "cell_type": "code",
   "execution_count": 137,
   "id": "4f47e9c2",
   "metadata": {},
   "outputs": [
    {
     "data": {
      "text/html": [
       "<div>\n",
       "<style scoped>\n",
       "    .dataframe tbody tr th:only-of-type {\n",
       "        vertical-align: middle;\n",
       "    }\n",
       "\n",
       "    .dataframe tbody tr th {\n",
       "        vertical-align: top;\n",
       "    }\n",
       "\n",
       "    .dataframe thead th {\n",
       "        text-align: right;\n",
       "    }\n",
       "</style>\n",
       "<table border=\"1\" class=\"dataframe\">\n",
       "  <thead>\n",
       "    <tr style=\"text-align: right;\">\n",
       "      <th></th>\n",
       "      <th>x0_northeast</th>\n",
       "      <th>x0_northwest</th>\n",
       "      <th>x0_southeast</th>\n",
       "      <th>x0_southwest</th>\n",
       "      <th>x1_no</th>\n",
       "      <th>x1_yes</th>\n",
       "      <th>x2_female</th>\n",
       "      <th>x2_male</th>\n",
       "      <th>children</th>\n",
       "      <th>age</th>\n",
       "      <th>bmi</th>\n",
       "    </tr>\n",
       "  </thead>\n",
       "  <tbody>\n",
       "    <tr>\n",
       "      <th>0</th>\n",
       "      <td>0.0</td>\n",
       "      <td>1.0</td>\n",
       "      <td>0.0</td>\n",
       "      <td>0.0</td>\n",
       "      <td>1.0</td>\n",
       "      <td>0.0</td>\n",
       "      <td>0.0</td>\n",
       "      <td>1.0</td>\n",
       "      <td>0.2</td>\n",
       "      <td>-0.374179</td>\n",
       "      <td>0.086957</td>\n",
       "    </tr>\n",
       "    <tr>\n",
       "      <th>1</th>\n",
       "      <td>0.0</td>\n",
       "      <td>0.0</td>\n",
       "      <td>1.0</td>\n",
       "      <td>0.0</td>\n",
       "      <td>1.0</td>\n",
       "      <td>0.0</td>\n",
       "      <td>1.0</td>\n",
       "      <td>0.0</td>\n",
       "      <td>0.4</td>\n",
       "      <td>-0.126300</td>\n",
       "      <td>0.565217</td>\n",
       "    </tr>\n",
       "    <tr>\n",
       "      <th>2</th>\n",
       "      <td>0.0</td>\n",
       "      <td>1.0</td>\n",
       "      <td>0.0</td>\n",
       "      <td>0.0</td>\n",
       "      <td>0.0</td>\n",
       "      <td>1.0</td>\n",
       "      <td>0.0</td>\n",
       "      <td>1.0</td>\n",
       "      <td>0.6</td>\n",
       "      <td>0.128189</td>\n",
       "      <td>0.913043</td>\n",
       "    </tr>\n",
       "    <tr>\n",
       "      <th>3</th>\n",
       "      <td>0.0</td>\n",
       "      <td>1.0</td>\n",
       "      <td>0.0</td>\n",
       "      <td>0.0</td>\n",
       "      <td>1.0</td>\n",
       "      <td>0.0</td>\n",
       "      <td>0.0</td>\n",
       "      <td>1.0</td>\n",
       "      <td>0.0</td>\n",
       "      <td>0.818945</td>\n",
       "      <td>0.021739</td>\n",
       "    </tr>\n",
       "    <tr>\n",
       "      <th>4</th>\n",
       "      <td>0.0</td>\n",
       "      <td>1.0</td>\n",
       "      <td>0.0</td>\n",
       "      <td>0.0</td>\n",
       "      <td>1.0</td>\n",
       "      <td>0.0</td>\n",
       "      <td>1.0</td>\n",
       "      <td>0.0</td>\n",
       "      <td>0.2</td>\n",
       "      <td>0.583460</td>\n",
       "      <td>0.413043</td>\n",
       "    </tr>\n",
       "  </tbody>\n",
       "</table>\n",
       "</div>"
      ],
      "text/plain": [
       "   x0_northeast  x0_northwest  x0_southeast  x0_southwest  x1_no  x1_yes  \\\n",
       "0           0.0           1.0           0.0           0.0    1.0     0.0   \n",
       "1           0.0           0.0           1.0           0.0    1.0     0.0   \n",
       "2           0.0           1.0           0.0           0.0    0.0     1.0   \n",
       "3           0.0           1.0           0.0           0.0    1.0     0.0   \n",
       "4           0.0           1.0           0.0           0.0    1.0     0.0   \n",
       "\n",
       "   x2_female  x2_male  children       age       bmi  \n",
       "0        0.0      1.0       0.2 -0.374179  0.086957  \n",
       "1        1.0      0.0       0.4 -0.126300  0.565217  \n",
       "2        0.0      1.0       0.6  0.128189  0.913043  \n",
       "3        0.0      1.0       0.0  0.818945  0.021739  \n",
       "4        1.0      0.0       0.2  0.583460  0.413043  "
      ]
     },
     "execution_count": 137,
     "metadata": {},
     "output_type": "execute_result"
    }
   ],
   "source": [
    "#Display final xtest results after preprocessing\n",
    "xtest_data.head()"
   ]
  },
  {
   "cell_type": "markdown",
   "id": "f11508dc",
   "metadata": {},
   "source": [
    "## Build Model\n",
    "Okay so we are going to start building our model. We will try to perform different experiment using diffrent machine learning algorithms. The following are the algorithms that we are going to use:\n",
    "\n",
    "1. Linear Regression\n",
    "2. Random Forest Regressor\n",
    "3. Decision Tree\n",
    "4. SVM\n",
    "5. LightGBM\n",
    "6. xGBoost\n",
    "7. Ridge Regression\n",
    "8. Lassor Regression\n",
    "9. KNN\n",
    "\n",
    "We are goiing to use python loop to loop though different machine learning algorithms, train our model and select the one which performes very well out of it. So without wasting much time, lets get started."
   ]
  },
  {
   "cell_type": "code",
   "execution_count": 138,
   "id": "80021dcf",
   "metadata": {},
   "outputs": [],
   "source": [
    "# Put model algorithms into a dictionary\n",
    "ml_algorithms = {\n",
    "    \"RandomForestRegressor\": RandomForestRegressor(),\n",
    "    \"DecisionTreeRegressor\": DecisionTreeRegressor(),\n",
    "    \"KNeighborsRegressor\": KNeighborsRegressor(),\n",
    "    \"LinearRegression\": LinearRegression(),\n",
    "    \"lgb\": lgb.LGBMRegressor(),\n",
    "    \"Ridge\": Ridge(),\n",
    "    \"Lasso\": Lasso(),\n",
    "    \"SVR\": SVR()\n",
    "}"
   ]
  },
  {
   "cell_type": "code",
   "execution_count": 139,
   "id": "be1bfa21",
   "metadata": {},
   "outputs": [
    {
     "data": {
      "text/plain": [
       "{'RandomForestRegressor': RandomForestRegressor(),\n",
       " 'DecisionTreeRegressor': DecisionTreeRegressor(),\n",
       " 'KNeighborsRegressor': KNeighborsRegressor(),\n",
       " 'LinearRegression': LinearRegression(),\n",
       " 'lgb': LGBMRegressor(),\n",
       " 'Ridge': Ridge(),\n",
       " 'Lasso': Lasso(),\n",
       " 'SVR': SVR()}"
      ]
     },
     "execution_count": 139,
     "metadata": {},
     "output_type": "execute_result"
    }
   ],
   "source": [
    "#Dislay algorithms in dictionary\n",
    "ml_algorithms"
   ]
  },
  {
   "cell_type": "code",
   "execution_count": 140,
   "id": "913290d6",
   "metadata": {},
   "outputs": [],
   "source": [
    "#Build class to build and evaluate our models\n",
    "class BuildAndEvaluateBaseModel:\n",
    "    \n",
    "    #Define class variables\n",
    "    ypred_values= {}\n",
    "    r_squared = {}\n",
    "    mape = {}\n",
    "    mae = {}\n",
    "    alg = {}\n",
    "    \n",
    "    @classmethod\n",
    "    def build_model(cls, xtrain, xtest, ytrain, ytest, algorithms):\n",
    "        \n",
    "        \"\"\"\n",
    "        This function will be used to build our machine learning\n",
    "        models. Make prediction and also to evaluate our models.\n",
    "        Args:\n",
    "            xtrain: training datasets\n",
    "            xtest: test datasets\n",
    "            ytrain: training label\n",
    "            ytest: test label\n",
    "            algorithms: List of machine leanring algorithms\n",
    "        \"\"\"\n",
    "    \n",
    "        #Define a loop to build, test and evaluate our model\n",
    "        for index, alg in algorithms.items():\n",
    "\n",
    "            # Fit model\n",
    "            train_model = alg.fit(xtrain, ytrain)\n",
    "\n",
    "            # Make prediction\n",
    "            ypred = train_model.predict(xtest)\n",
    "            cls.ypred_values[index] = ypred\n",
    "            \n",
    "            #Evaluate model\n",
    "            \n",
    "            #Evaluate mean absolute error\n",
    "            cls.mae[index] = [round(mean_absolute_error(y_true=ytest, y_pred=ypred),3)]\n",
    "                \n",
    "            #Evaluate mean absolute percentage error\n",
    "            cls.mape[index] = [round(mean_absolute_percentage_error(y_true=ytest,y_pred=ypred),3)]\n",
    "            \n",
    "            #Get Algorithm\n",
    "            cls.alg[index] = alg\n",
    "            \n",
    "            #Evaluate r2\n",
    "            cls.r_squared[index] = [round(r2_score(y_true=ytest, y_pred=ypred), 3)]\n",
    "        \n",
    "        return cls.ypred_values, cls.mae, cls.mape, cls.r_squared,cls.alg"
   ]
  },
  {
   "cell_type": "code",
   "execution_count": 141,
   "id": "0fc1a295",
   "metadata": {},
   "outputs": [],
   "source": [
    "#set Random Seed\n",
    "np.random.seed(42)\n",
    "\n",
    "#Call function to buils and make prediction\n",
    "ypred_values, mae, mape, r_squared, alg = BuildAndEvaluateBaseModel.build_model(xtrain=xtrain_data,\n",
    "                                                                                xtest=xtest_data,\n",
    "                                                                                ytrain=y_train,\n",
    "                                                                                ytest=y_test,\n",
    "                                                                                algorithms=ml_algorithms)"
   ]
  },
  {
   "cell_type": "code",
   "execution_count": 142,
   "id": "cf532201",
   "metadata": {},
   "outputs": [
    {
     "data": {
      "text/plain": [
       "{'RandomForestRegressor': [2740.39],\n",
       " 'DecisionTreeRegressor': [3329.762],\n",
       " 'KNeighborsRegressor': [3392.823],\n",
       " 'LinearRegression': [4439.631],\n",
       " 'lgb': [2854.444],\n",
       " 'Ridge': [4443.001],\n",
       " 'Lasso': [4439.069],\n",
       " 'SVR': [7743.029]}"
      ]
     },
     "execution_count": 142,
     "metadata": {},
     "output_type": "execute_result"
    }
   ],
   "source": [
    "#Display our our mean absolute error\n",
    "mae"
   ]
  },
  {
   "cell_type": "code",
   "execution_count": 143,
   "id": "c1ffc34b",
   "metadata": {},
   "outputs": [
    {
     "data": {
      "text/plain": [
       "{'RandomForestRegressor': [0.294],\n",
       " 'DecisionTreeRegressor': [0.369],\n",
       " 'KNeighborsRegressor': [0.391],\n",
       " 'LinearRegression': [0.423],\n",
       " 'lgb': [0.302],\n",
       " 'Ridge': [0.425],\n",
       " 'Lasso': [0.423],\n",
       " 'SVR': [0.867]}"
      ]
     },
     "execution_count": 143,
     "metadata": {},
     "output_type": "execute_result"
    }
   ],
   "source": [
    "#Display mean absolute percentage error\n",
    "mape"
   ]
  },
  {
   "cell_type": "code",
   "execution_count": 144,
   "id": "c3f1bc10",
   "metadata": {},
   "outputs": [
    {
     "data": {
      "text/plain": [
       "{'RandomForestRegressor': [0.821],\n",
       " 'DecisionTreeRegressor': [0.638],\n",
       " 'KNeighborsRegressor': [0.775],\n",
       " 'LinearRegression': [0.703],\n",
       " 'lgb': [0.821],\n",
       " 'Ridge': [0.704],\n",
       " 'Lasso': [0.703],\n",
       " 'SVR': [-0.103]}"
      ]
     },
     "execution_count": 144,
     "metadata": {},
     "output_type": "execute_result"
    }
   ],
   "source": [
    "#Display r2\n",
    "r_squared"
   ]
  },
  {
   "cell_type": "markdown",
   "id": "99c0eac6",
   "metadata": {},
   "source": [
    "Okay so lets create a dataframe out from our evaluation metrics and visualize this results for us to make a better decision on the models to select for us to perform hyperparameter tuning on them. So lets get started without wasting much time...."
   ]
  },
  {
   "cell_type": "code",
   "execution_count": 59,
   "id": "974b1c9e",
   "metadata": {},
   "outputs": [],
   "source": [
    "#Create Dataframe from evaluation metrics except mse\n",
    "df_1 = pd.concat([\n",
    "    pd.DataFrame(mae, index=[\"mae\"]),\n",
    "    pd.DataFrame(mape, index=['mape']),\n",
    "    pd.DataFrame(r_squared, index=[\"R2\"])\n",
    "])"
   ]
  },
  {
   "cell_type": "code",
   "execution_count": 60,
   "id": "e5b6f5a0",
   "metadata": {},
   "outputs": [
    {
     "data": {
      "text/html": [
       "<div>\n",
       "<style scoped>\n",
       "    .dataframe tbody tr th:only-of-type {\n",
       "        vertical-align: middle;\n",
       "    }\n",
       "\n",
       "    .dataframe tbody tr th {\n",
       "        vertical-align: top;\n",
       "    }\n",
       "\n",
       "    .dataframe thead th {\n",
       "        text-align: right;\n",
       "    }\n",
       "</style>\n",
       "<table border=\"1\" class=\"dataframe\">\n",
       "  <thead>\n",
       "    <tr style=\"text-align: right;\">\n",
       "      <th></th>\n",
       "      <th>mae</th>\n",
       "      <th>mape</th>\n",
       "      <th>R2</th>\n",
       "    </tr>\n",
       "  </thead>\n",
       "  <tbody>\n",
       "    <tr>\n",
       "      <th>RandomForestRegressor</th>\n",
       "      <td>2740.390</td>\n",
       "      <td>0.294</td>\n",
       "      <td>0.821</td>\n",
       "    </tr>\n",
       "    <tr>\n",
       "      <th>lgb</th>\n",
       "      <td>2854.444</td>\n",
       "      <td>0.302</td>\n",
       "      <td>0.821</td>\n",
       "    </tr>\n",
       "    <tr>\n",
       "      <th>KNeighborsRegressor</th>\n",
       "      <td>3392.823</td>\n",
       "      <td>0.391</td>\n",
       "      <td>0.775</td>\n",
       "    </tr>\n",
       "    <tr>\n",
       "      <th>Ridge</th>\n",
       "      <td>4443.001</td>\n",
       "      <td>0.425</td>\n",
       "      <td>0.704</td>\n",
       "    </tr>\n",
       "    <tr>\n",
       "      <th>LinearRegression</th>\n",
       "      <td>4439.631</td>\n",
       "      <td>0.423</td>\n",
       "      <td>0.703</td>\n",
       "    </tr>\n",
       "    <tr>\n",
       "      <th>Lasso</th>\n",
       "      <td>4439.069</td>\n",
       "      <td>0.423</td>\n",
       "      <td>0.703</td>\n",
       "    </tr>\n",
       "    <tr>\n",
       "      <th>DecisionTreeRegressor</th>\n",
       "      <td>3329.762</td>\n",
       "      <td>0.369</td>\n",
       "      <td>0.638</td>\n",
       "    </tr>\n",
       "    <tr>\n",
       "      <th>SVR</th>\n",
       "      <td>7743.029</td>\n",
       "      <td>0.867</td>\n",
       "      <td>-0.103</td>\n",
       "    </tr>\n",
       "  </tbody>\n",
       "</table>\n",
       "</div>"
      ],
      "text/plain": [
       "                            mae   mape     R2\n",
       "RandomForestRegressor  2740.390  0.294  0.821\n",
       "lgb                    2854.444  0.302  0.821\n",
       "KNeighborsRegressor    3392.823  0.391  0.775\n",
       "Ridge                  4443.001  0.425  0.704\n",
       "LinearRegression       4439.631  0.423  0.703\n",
       "Lasso                  4439.069  0.423  0.703\n",
       "DecisionTreeRegressor  3329.762  0.369  0.638\n",
       "SVR                    7743.029  0.867 -0.103"
      ]
     },
     "execution_count": 60,
     "metadata": {},
     "output_type": "execute_result"
    }
   ],
   "source": [
    "#Display results\n",
    "df_1.T.sort_values(ascending=False, by=\"R2\")"
   ]
  },
  {
   "cell_type": "markdown",
   "id": "8bdba3d3",
   "metadata": {},
   "source": [
    "### Observation\n",
    "Finally, he succesffuly been able to build our base models by experimenting on different machine learning algorithms. From Above, we can see that the model performing well is `RandomForestRegressor` and `LightGBM`. They both had a good accuracy score but their loss values are little bit higher hence we are going to perform hyperparameter tunning on this two model to see how well we will be able to reduce its loss value as well as to increase its accuracy score.\n",
    "\n",
    "Hyperparameter tunning technique we are going to experiment on are:\n",
    "\n",
    "* RandomizedSearchCV\n",
    "* GridSearchCV\n",
    "\n",
    "We are going to use scikitlearn pipeline to automate the entire process on each algorithm. Lets just hope we get a good result after performing this hyperparameter tuning. Okay so without wasting much time, lets start.\n"
   ]
  },
  {
   "cell_type": "code",
   "execution_count": 61,
   "id": "5e515996",
   "metadata": {},
   "outputs": [
    {
     "data": {
      "text/plain": [
       "{'RandomForestRegressor': RandomForestRegressor(),\n",
       " 'DecisionTreeRegressor': DecisionTreeRegressor(),\n",
       " 'KNeighborsRegressor': KNeighborsRegressor(),\n",
       " 'LinearRegression': LinearRegression(),\n",
       " 'lgb': LGBMRegressor(),\n",
       " 'Ridge': Ridge(),\n",
       " 'Lasso': Lasso(),\n",
       " 'SVR': SVR()}"
      ]
     },
     "execution_count": 61,
     "metadata": {},
     "output_type": "execute_result"
    }
   ],
   "source": [
    "#Display algorithms used to train model\n",
    "alg"
   ]
  },
  {
   "cell_type": "code",
   "execution_count": 62,
   "id": "f84ee51a",
   "metadata": {},
   "outputs": [
    {
     "data": {
      "text/plain": [
       "LGBMRegressor()"
      ]
     },
     "execution_count": 62,
     "metadata": {},
     "output_type": "execute_result"
    }
   ],
   "source": [
    "#Get LightGBM algorithm\n",
    "light_gbm = alg[\"lgb\"]\n",
    "\n",
    "light_gbm"
   ]
  },
  {
   "cell_type": "code",
   "execution_count": 63,
   "id": "dc265caf",
   "metadata": {},
   "outputs": [
    {
     "data": {
      "text/plain": [
       "RandomForestRegressor()"
      ]
     },
     "execution_count": 63,
     "metadata": {},
     "output_type": "execute_result"
    }
   ],
   "source": [
    "#Get RandomForestRegressor algorithm\n",
    "random_forest_regressor = alg[\"RandomForestRegressor\"]\n",
    "\n",
    "#Display RandomForestRegressor algorithm\n",
    "random_forest_regressor"
   ]
  },
  {
   "cell_type": "code",
   "execution_count": 64,
   "id": "57aff3e2",
   "metadata": {},
   "outputs": [
    {
     "data": {
      "text/plain": [
       "{'bootstrap': True,\n",
       " 'ccp_alpha': 0.0,\n",
       " 'criterion': 'squared_error',\n",
       " 'max_depth': None,\n",
       " 'max_features': 'auto',\n",
       " 'max_leaf_nodes': None,\n",
       " 'max_samples': None,\n",
       " 'min_impurity_decrease': 0.0,\n",
       " 'min_samples_leaf': 1,\n",
       " 'min_samples_split': 2,\n",
       " 'min_weight_fraction_leaf': 0.0,\n",
       " 'n_estimators': 100,\n",
       " 'n_jobs': None,\n",
       " 'oob_score': False,\n",
       " 'random_state': None,\n",
       " 'verbose': 0,\n",
       " 'warm_start': False}"
      ]
     },
     "execution_count": 64,
     "metadata": {},
     "output_type": "execute_result"
    }
   ],
   "source": [
    "#Display Random Forest Regressor Parameters\n",
    "random_forest_regressor.get_params()"
   ]
  },
  {
   "cell_type": "code",
   "execution_count": 65,
   "id": "9d0734b7",
   "metadata": {},
   "outputs": [
    {
     "data": {
      "text/plain": [
       "{'boosting_type': 'gbdt',\n",
       " 'class_weight': None,\n",
       " 'colsample_bytree': 1.0,\n",
       " 'importance_type': 'split',\n",
       " 'learning_rate': 0.1,\n",
       " 'max_depth': -1,\n",
       " 'min_child_samples': 20,\n",
       " 'min_child_weight': 0.001,\n",
       " 'min_split_gain': 0.0,\n",
       " 'n_estimators': 100,\n",
       " 'n_jobs': -1,\n",
       " 'num_leaves': 31,\n",
       " 'objective': None,\n",
       " 'random_state': None,\n",
       " 'reg_alpha': 0.0,\n",
       " 'reg_lambda': 0.0,\n",
       " 'silent': 'warn',\n",
       " 'subsample': 1.0,\n",
       " 'subsample_for_bin': 200000,\n",
       " 'subsample_freq': 0}"
      ]
     },
     "execution_count": 65,
     "metadata": {},
     "output_type": "execute_result"
    }
   ],
   "source": [
    "#Get Light GBM parameters\n",
    "light_gbm.get_params()"
   ]
  },
  {
   "cell_type": "markdown",
   "id": "0c58ccba",
   "metadata": {},
   "source": [
    "Okay so we are going to start to perform our hyperparameter tuning. We will first tune our model using GridSearchCV and scikitlearn pipeline on both `RandomForestRegressor` and `LightGBM`. Lets get it done now."
   ]
  },
  {
   "cell_type": "code",
   "execution_count": 66,
   "id": "4ccc7017",
   "metadata": {},
   "outputs": [],
   "source": [
    "#Set Random seed\n",
    "np.random.seed(45)\n",
    "\n",
    "#Define Pipeline\n",
    "regressor_pipeline = Pipeline([('regressor', RandomForestRegressor())])\n",
    "\n",
    "#Setup RandomForestRegressor Grid\n",
    "rf_grid = [{\n",
    "    'regressor': [RandomForestRegressor()],\n",
    "    'regressor__n_estimators': [100, 200, 300, 1000],\n",
    "    'regressor__min_samples_leaf':[1,2,3,4],\n",
    "    'regressor__min_samples_split':[2,3,4,5],\n",
    "    'regressor__max_depth':[None, 80, 90, 100]\n",
    "    },{\n",
    "    'regressor': [lgb.LGBMRegressor()],\n",
    "    'regressor__min_split_gain': [0.0, 0.1],\n",
    "    'regressor__max_depth': [-1, 1],\n",
    "    'regressor__subsample': [1.0, 1.2],\n",
    "    'regressor__num_leaves': [31, 40]\n",
    "}]\n",
    "\n",
    "#Initialize GridSearch\n",
    "grid_search = GridSearchCV(estimator=regressor_pipeline,\n",
    "                            param_grid=rf_grid,\n",
    "                            cv=5,n_jobs=-1,\n",
    "                            verbose=0)"
   ]
  },
  {
   "cell_type": "code",
   "execution_count": 67,
   "id": "390b9328",
   "metadata": {},
   "outputs": [
    {
     "name": "stderr",
     "output_type": "stream",
     "text": [
      "[LightGBM] [Fatal] Check failed: (bagging_fraction) <= (1.0) at /__w/1/s/python-package/compile/src/io/config_auto.cpp, line 357 .\n",
      "\n",
      "[LightGBM] [Fatal] Check failed: (bagging_fraction) <= (1.0) at /__w/1/s/python-package/compile/src/io/config_auto.cpp, line 357 .\n",
      "\n",
      "[LightGBM] [Fatal] Check failed: (bagging_fraction) <= (1.0) at /__w/1/s/python-package/compile/src/io/config_auto.cpp, line 357 .\n",
      "\n",
      "[LightGBM] [Fatal] Check failed: (bagging_fraction) <= (1.0) at /__w/1/s/python-package/compile/src/io/config_auto.cpp, line 357 .\n",
      "\n",
      "[LightGBM] [Fatal] Check failed: (bagging_fraction) <= (1.0) at /__w/1/s/python-package/compile/src/io/config_auto.cpp, line 357 .\n",
      "\n",
      "[LightGBM] [Fatal] Check failed: (bagging_fraction) <= (1.0) at /__w/1/s/python-package/compile/src/io/config_auto.cpp, line 357 .\n",
      "\n",
      "[LightGBM] [Fatal] Check failed: (bagging_fraction) <= (1.0) at /__w/1/s/python-package/compile/src/io/config_auto.cpp, line 357 .\n",
      "\n",
      "[LightGBM] [Fatal] Check failed: (bagging_fraction) <= (1.0) at /__w/1/s/python-package/compile/src/io/config_auto.cpp, line 357 .\n",
      "\n",
      "[LightGBM] [Fatal] Check failed: (bagging_fraction) <= (1.0) at /__w/1/s/python-package/compile/src/io/config_auto.cpp, line 357 .\n",
      "\n",
      "[LightGBM] [Fatal] Check failed: (bagging_fraction) <= (1.0) at /__w/1/s/python-package/compile/src/io/config_auto.cpp, line 357 .\n",
      "\n",
      "[LightGBM] [Fatal] Check failed: (bagging_fraction) <= (1.0) at /__w/1/s/python-package/compile/src/io/config_auto.cpp, line 357 .\n",
      "\n",
      "[LightGBM] [Fatal] Check failed: (bagging_fraction) <= (1.0) at /__w/1/s/python-package/compile/src/io/config_auto.cpp, line 357 .\n",
      "\n",
      "[LightGBM] [Fatal] Check failed: (bagging_fraction) <= (1.0) at /__w/1/s/python-package/compile/src/io/config_auto.cpp, line 357 .\n",
      "\n",
      "[LightGBM] [Fatal] Check failed: (bagging_fraction) <= (1.0) at /__w/1/s/python-package/compile/src/io/config_auto.cpp, line 357 .\n",
      "\n",
      "[LightGBM] [Fatal] Check failed: (bagging_fraction) <= (1.0) at /__w/1/s/python-package/compile/src/io/config_auto.cpp, line 357 .\n",
      "\n",
      "[LightGBM] [Fatal] Check failed: (bagging_fraction) <= (1.0) at /__w/1/s/python-package/compile/src/io/config_auto.cpp, line 357 .\n",
      "\n",
      "[LightGBM] [Fatal] Check failed: (bagging_fraction) <= (1.0) at /__w/1/s/python-package/compile/src/io/config_auto.cpp, line 357 .\n",
      "\n",
      "[LightGBM] [Fatal] Check failed: (bagging_fraction) <= (1.0) at /__w/1/s/python-package/compile/src/io/config_auto.cpp, line 357 .\n",
      "\n",
      "[LightGBM] [Fatal] Check failed: (bagging_fraction) <= (1.0) at /__w/1/s/python-package/compile/src/io/config_auto.cpp, line 357 .\n",
      "\n",
      "[LightGBM] [Fatal] Check failed: (bagging_fraction) <= (1.0) at /__w/1/s/python-package/compile/src/io/config_auto.cpp, line 357 .\n",
      "\n",
      "[LightGBM] [Fatal] Check failed: (bagging_fraction) <= (1.0) at /__w/1/s/python-package/compile/src/io/config_auto.cpp, line 357 .\n",
      "\n",
      "[LightGBM] [Fatal] Check failed: (bagging_fraction) <= (1.0) at /__w/1/s/python-package/compile/src/io/config_auto.cpp, line 357 .\n",
      "\n",
      "[LightGBM] [Fatal] Check failed: (bagging_fraction) <= (1.0) at /__w/1/s/python-package/compile/src/io/config_auto.cpp, line 357 .\n",
      "\n",
      "[LightGBM] [Fatal] Check failed: (bagging_fraction) <= (1.0) at /__w/1/s/python-package/compile/src/io/config_auto.cpp, line 357 .\n",
      "\n",
      "[LightGBM] [Fatal] Check failed: (bagging_fraction) <= (1.0) at /__w/1/s/python-package/compile/src/io/config_auto.cpp, line 357 .\n",
      "\n",
      "[LightGBM] [Fatal] Check failed: (bagging_fraction) <= (1.0) at /__w/1/s/python-package/compile/src/io/config_auto.cpp, line 357 .\n",
      "\n",
      "[LightGBM] [Fatal] Check failed: (bagging_fraction) <= (1.0) at /__w/1/s/python-package/compile/src/io/config_auto.cpp, line 357 .\n",
      "\n",
      "[LightGBM] [Fatal] Check failed: (bagging_fraction) <= (1.0) at /__w/1/s/python-package/compile/src/io/config_auto.cpp, line 357 .\n",
      "\n",
      "[LightGBM] [Fatal] Check failed: (bagging_fraction) <= (1.0) at /__w/1/s/python-package/compile/src/io/config_auto.cpp, line 357 .\n",
      "\n",
      "[LightGBM] [Fatal] Check failed: (bagging_fraction) <= (1.0) at /__w/1/s/python-package/compile/src/io/config_auto.cpp, line 357 .\n",
      "\n",
      "[LightGBM] [Fatal] Check failed: (bagging_fraction) <= (1.0) at /__w/1/s/python-package/compile/src/io/config_auto.cpp, line 357 .\n",
      "\n",
      "[LightGBM] [Fatal] Check failed: (bagging_fraction) <= (1.0) at /__w/1/s/python-package/compile/src/io/config_auto.cpp, line 357 .\n",
      "\n",
      "[LightGBM] [Fatal] Check failed: (bagging_fraction) <= (1.0) at /__w/1/s/python-package/compile/src/io/config_auto.cpp, line 357 .\n",
      "\n",
      "[LightGBM] [Fatal] Check failed: (bagging_fraction) <= (1.0) at /__w/1/s/python-package/compile/src/io/config_auto.cpp, line 357 .\n",
      "\n",
      "[LightGBM] [Fatal] Check failed: (bagging_fraction) <= (1.0) at /__w/1/s/python-package/compile/src/io/config_auto.cpp, line 357 .\n",
      "\n",
      "[LightGBM] [Fatal] Check failed: (bagging_fraction) <= (1.0) at /__w/1/s/python-package/compile/src/io/config_auto.cpp, line 357 .\n",
      "\n",
      "[LightGBM] [Fatal] Check failed: (bagging_fraction) <= (1.0) at /__w/1/s/python-package/compile/src/io/config_auto.cpp, line 357 .\n",
      "\n",
      "[LightGBM] [Fatal] Check failed: (bagging_fraction) <= (1.0) at /__w/1/s/python-package/compile/src/io/config_auto.cpp, line 357 .\n",
      "\n",
      "[LightGBM] [Fatal] Check failed: (bagging_fraction) <= (1.0) at /__w/1/s/python-package/compile/src/io/config_auto.cpp, line 357 .\n",
      "\n",
      "[LightGBM] [Fatal] Check failed: (bagging_fraction) <= (1.0) at /__w/1/s/python-package/compile/src/io/config_auto.cpp, line 357 .\n",
      "\n"
     ]
    }
   ],
   "source": [
    "#Fit our dataset on grid search cv to get best model\n",
    "best_model = grid_search.fit(xtrain_data, y_train)"
   ]
  },
  {
   "cell_type": "code",
   "execution_count": 68,
   "id": "704f505d",
   "metadata": {},
   "outputs": [
    {
     "data": {
      "text/plain": [
       "{'regressor': RandomForestRegressor(max_depth=90, min_samples_leaf=4, n_estimators=200),\n",
       " 'regressor__max_depth': 90,\n",
       " 'regressor__min_samples_leaf': 4,\n",
       " 'regressor__min_samples_split': 2,\n",
       " 'regressor__n_estimators': 200}"
      ]
     },
     "execution_count": 68,
     "metadata": {},
     "output_type": "execute_result"
    }
   ],
   "source": [
    "#Get the best parameters\n",
    "best_model.best_params_"
   ]
  },
  {
   "cell_type": "code",
   "execution_count": 69,
   "id": "45ceb26b",
   "metadata": {},
   "outputs": [
    {
     "data": {
      "text/plain": [
       "array([ 3582.70965314, 10329.44162963, 46612.70512767,  2287.26460865,\n",
       "        6408.43386001, 12723.85048302,  8439.39357935, 12170.62097573,\n",
       "       14613.05919272, 24382.51080134])"
      ]
     },
     "execution_count": 69,
     "metadata": {},
     "output_type": "execute_result"
    }
   ],
   "source": [
    "#Make prediction\n",
    "ypred_2=best_model.predict(xtest_data)\n",
    "\n",
    "#Display predicted values\n",
    "ypred_2[:10]"
   ]
  },
  {
   "cell_type": "code",
   "execution_count": 70,
   "id": "d777c517",
   "metadata": {},
   "outputs": [],
   "source": [
    "#Lets create a function to help us evaluate our model after hyperparameter tuning\n",
    "def evaluate_model(ypred, ytest):\n",
    "        \n",
    "    \"\"\"\n",
    "    This method is suppose to evaluate our models\n",
    "    and return its results.\n",
    "    Args:\n",
    "        ypred: The predicted values\n",
    "        ytest: The actual test value\n",
    "    \"\"\"\n",
    "    #Evaluate mean absolute error\n",
    "    mae = round(mean_absolute_error(y_true=ytest, y_pred=ypred), 3)\n",
    "        \n",
    "    #Evaluate mean absolute percentage error\n",
    "    mape = round(mean_absolute_percentage_error(y_true=ytest,y_pred=ypred),3)\n",
    "        \n",
    "    #Evaluate r2\n",
    "    r_squared = round(r2_score(y_true=ytest, y_pred=ypred),3)\n",
    "        \n",
    "    #Return results\n",
    "    return mae, mape, r_squared"
   ]
  },
  {
   "cell_type": "code",
   "execution_count": 71,
   "id": "284d38d7",
   "metadata": {},
   "outputs": [],
   "source": [
    "#Evaluate Model\n",
    "mae_1, mape_1, r_squared_1 = evaluate_model(ypred_2, y_test)"
   ]
  },
  {
   "cell_type": "code",
   "execution_count": 72,
   "id": "6c4050c4",
   "metadata": {},
   "outputs": [
    {
     "data": {
      "text/plain": [
       "0.276"
      ]
     },
     "execution_count": 72,
     "metadata": {},
     "output_type": "execute_result"
    }
   ],
   "source": [
    "#Display MAPE\n",
    "mape_1"
   ]
  },
  {
   "cell_type": "code",
   "execution_count": 73,
   "id": "dd309421",
   "metadata": {},
   "outputs": [
    {
     "data": {
      "text/plain": [
       "0.835"
      ]
     },
     "execution_count": 73,
     "metadata": {},
     "output_type": "execute_result"
    }
   ],
   "source": [
    "#Display r2\n",
    "r_squared_1"
   ]
  },
  {
   "cell_type": "code",
   "execution_count": 74,
   "id": "9575d6d3",
   "metadata": {},
   "outputs": [
    {
     "data": {
      "text/plain": [
       "2595.849"
      ]
     },
     "execution_count": 74,
     "metadata": {},
     "output_type": "execute_result"
    }
   ],
   "source": [
    "#Display mse\n",
    "mae_1"
   ]
  },
  {
   "cell_type": "code",
   "execution_count": 75,
   "id": "1f8db7a0",
   "metadata": {},
   "outputs": [
    {
     "data": {
      "text/html": [
       "<div>\n",
       "<style scoped>\n",
       "    .dataframe tbody tr th:only-of-type {\n",
       "        vertical-align: middle;\n",
       "    }\n",
       "\n",
       "    .dataframe tbody tr th {\n",
       "        vertical-align: top;\n",
       "    }\n",
       "\n",
       "    .dataframe thead th {\n",
       "        text-align: right;\n",
       "    }\n",
       "</style>\n",
       "<table border=\"1\" class=\"dataframe\">\n",
       "  <thead>\n",
       "    <tr style=\"text-align: right;\">\n",
       "      <th></th>\n",
       "      <th>mae</th>\n",
       "      <th>mape</th>\n",
       "      <th>R2</th>\n",
       "    </tr>\n",
       "  </thead>\n",
       "  <tbody>\n",
       "    <tr>\n",
       "      <th>RandomForestRegressor</th>\n",
       "      <td>2740.390</td>\n",
       "      <td>0.294</td>\n",
       "      <td>0.821</td>\n",
       "    </tr>\n",
       "    <tr>\n",
       "      <th>DecisionTreeRegressor</th>\n",
       "      <td>3329.762</td>\n",
       "      <td>0.369</td>\n",
       "      <td>0.638</td>\n",
       "    </tr>\n",
       "    <tr>\n",
       "      <th>KNeighborsRegressor</th>\n",
       "      <td>3392.823</td>\n",
       "      <td>0.391</td>\n",
       "      <td>0.775</td>\n",
       "    </tr>\n",
       "    <tr>\n",
       "      <th>LinearRegression</th>\n",
       "      <td>4439.631</td>\n",
       "      <td>0.423</td>\n",
       "      <td>0.703</td>\n",
       "    </tr>\n",
       "    <tr>\n",
       "      <th>lgb</th>\n",
       "      <td>2854.444</td>\n",
       "      <td>0.302</td>\n",
       "      <td>0.821</td>\n",
       "    </tr>\n",
       "    <tr>\n",
       "      <th>Ridge</th>\n",
       "      <td>4443.001</td>\n",
       "      <td>0.425</td>\n",
       "      <td>0.704</td>\n",
       "    </tr>\n",
       "    <tr>\n",
       "      <th>Lasso</th>\n",
       "      <td>4439.069</td>\n",
       "      <td>0.423</td>\n",
       "      <td>0.703</td>\n",
       "    </tr>\n",
       "    <tr>\n",
       "      <th>SVR</th>\n",
       "      <td>7743.029</td>\n",
       "      <td>0.867</td>\n",
       "      <td>-0.103</td>\n",
       "    </tr>\n",
       "  </tbody>\n",
       "</table>\n",
       "</div>"
      ],
      "text/plain": [
       "                            mae   mape     R2\n",
       "RandomForestRegressor  2740.390  0.294  0.821\n",
       "DecisionTreeRegressor  3329.762  0.369  0.638\n",
       "KNeighborsRegressor    3392.823  0.391  0.775\n",
       "LinearRegression       4439.631  0.423  0.703\n",
       "lgb                    2854.444  0.302  0.821\n",
       "Ridge                  4443.001  0.425  0.704\n",
       "Lasso                  4439.069  0.423  0.703\n",
       "SVR                    7743.029  0.867 -0.103"
      ]
     },
     "execution_count": 75,
     "metadata": {},
     "output_type": "execute_result"
    }
   ],
   "source": [
    "#Lets compare what we had with our new results\n",
    "df_1.T"
   ]
  },
  {
   "cell_type": "code",
   "execution_count": 76,
   "id": "e054c1ef",
   "metadata": {},
   "outputs": [],
   "source": [
    "#Set Random seed\n",
    "np.random.seed(45)\n",
    "\n",
    "#Define Pipeline\n",
    "regressor_pipeline = Pipeline([('regressor', RandomForestRegressor())])\n",
    "\n",
    "#Setup RandomForestRegressor Grid\n",
    "random_search_cv = [{\n",
    "    'regressor': [RandomForestRegressor()],\n",
    "    'regressor__n_estimators': [100, 200, 300, 1000],\n",
    "    'regressor__min_samples_leaf':[1,2,3,4],\n",
    "    'regressor__min_samples_split':[2,3,4,5],\n",
    "    'regressor__max_depth':[None, 80, 90, 100]\n",
    "    },{\n",
    "    'regressor': [lgb.LGBMRegressor()],\n",
    "    'regressor__min_split_gain': [0.0, 0.1],\n",
    "    'regressor__max_depth': [-1, 1],\n",
    "    'regressor__subsample': [1.0, 1.2],\n",
    "    'regressor__num_leaves': [31, 40]\n",
    "}]\n",
    "\n",
    "#Initialize GridSearch\n",
    "rs_cv = RandomizedSearchCV(estimator=regressor_pipeline,\n",
    "                                cv=5,param_distributions=random_search_cv)"
   ]
  },
  {
   "cell_type": "code",
   "execution_count": 77,
   "id": "4d5cafc1",
   "metadata": {},
   "outputs": [],
   "source": [
    "#Get best model\n",
    "rs_cv_best_model = rs_cv.fit(xtrain_data, y_train)"
   ]
  },
  {
   "cell_type": "code",
   "execution_count": 78,
   "id": "a5f35dd3",
   "metadata": {},
   "outputs": [
    {
     "data": {
      "text/plain": [
       "{'cv': 5,\n",
       " 'error_score': nan,\n",
       " 'estimator__memory': None,\n",
       " 'estimator__steps': [('regressor', RandomForestRegressor())],\n",
       " 'estimator__verbose': False,\n",
       " 'estimator__regressor': RandomForestRegressor(),\n",
       " 'estimator__regressor__bootstrap': True,\n",
       " 'estimator__regressor__ccp_alpha': 0.0,\n",
       " 'estimator__regressor__criterion': 'squared_error',\n",
       " 'estimator__regressor__max_depth': None,\n",
       " 'estimator__regressor__max_features': 'auto',\n",
       " 'estimator__regressor__max_leaf_nodes': None,\n",
       " 'estimator__regressor__max_samples': None,\n",
       " 'estimator__regressor__min_impurity_decrease': 0.0,\n",
       " 'estimator__regressor__min_samples_leaf': 1,\n",
       " 'estimator__regressor__min_samples_split': 2,\n",
       " 'estimator__regressor__min_weight_fraction_leaf': 0.0,\n",
       " 'estimator__regressor__n_estimators': 100,\n",
       " 'estimator__regressor__n_jobs': None,\n",
       " 'estimator__regressor__oob_score': False,\n",
       " 'estimator__regressor__random_state': None,\n",
       " 'estimator__regressor__verbose': 0,\n",
       " 'estimator__regressor__warm_start': False,\n",
       " 'estimator': Pipeline(steps=[('regressor', RandomForestRegressor())]),\n",
       " 'n_iter': 10,\n",
       " 'n_jobs': None,\n",
       " 'param_distributions': [{'regressor': [RandomForestRegressor(max_depth=90, min_samples_leaf=4, n_estimators=200)],\n",
       "   'regressor__n_estimators': [100, 200, 300, 1000],\n",
       "   'regressor__min_samples_leaf': [1, 2, 3, 4],\n",
       "   'regressor__min_samples_split': [2, 3, 4, 5],\n",
       "   'regressor__max_depth': [None, 80, 90, 100]},\n",
       "  {'regressor': [LGBMRegressor()],\n",
       "   'regressor__min_split_gain': [0.0, 0.1],\n",
       "   'regressor__max_depth': [-1, 1],\n",
       "   'regressor__subsample': [1.0, 1.2],\n",
       "   'regressor__num_leaves': [31, 40]}],\n",
       " 'pre_dispatch': '2*n_jobs',\n",
       " 'random_state': None,\n",
       " 'refit': True,\n",
       " 'return_train_score': False,\n",
       " 'scoring': None,\n",
       " 'verbose': 0}"
      ]
     },
     "execution_count": 78,
     "metadata": {},
     "output_type": "execute_result"
    }
   ],
   "source": [
    "#Get best parameters\n",
    "rs_cv_best_model.get_params()"
   ]
  },
  {
   "cell_type": "code",
   "execution_count": 79,
   "id": "40df1e23",
   "metadata": {},
   "outputs": [
    {
     "data": {
      "text/plain": [
       "array([ 3971.57501305, 10613.20906619, 46691.03383692,  2191.3537184 ,\n",
       "        6510.87406066, 12563.94392737,  7975.15614707, 12289.16927057,\n",
       "       14710.42802121, 24281.80374209])"
      ]
     },
     "execution_count": 79,
     "metadata": {},
     "output_type": "execute_result"
    }
   ],
   "source": [
    "#Make prediction\n",
    "random_search_ypred = rs_cv_best_model.predict(xtest_data)\n",
    "\n",
    "#Display predicted values\n",
    "random_search_ypred[:10]"
   ]
  },
  {
   "cell_type": "code",
   "execution_count": 80,
   "id": "9ced9405",
   "metadata": {},
   "outputs": [],
   "source": [
    "#Evaluate Model\n",
    "mae_2, mape_2, r_squared_2 = evaluate_model(random_search_ypred, y_test)"
   ]
  },
  {
   "cell_type": "code",
   "execution_count": 81,
   "id": "903f7b13",
   "metadata": {},
   "outputs": [
    {
     "data": {
      "text/plain": [
       "2590.212"
      ]
     },
     "execution_count": 81,
     "metadata": {},
     "output_type": "execute_result"
    }
   ],
   "source": [
    "#Display mae\n",
    "mae_2"
   ]
  },
  {
   "cell_type": "code",
   "execution_count": 82,
   "id": "1e0e269c",
   "metadata": {},
   "outputs": [
    {
     "data": {
      "text/plain": [
       "0.276"
      ]
     },
     "execution_count": 82,
     "metadata": {},
     "output_type": "execute_result"
    }
   ],
   "source": [
    "#Display mape\n",
    "mape_2"
   ]
  },
  {
   "cell_type": "code",
   "execution_count": 83,
   "id": "fc4959df",
   "metadata": {},
   "outputs": [
    {
     "data": {
      "text/plain": [
       "0.834"
      ]
     },
     "execution_count": 83,
     "metadata": {},
     "output_type": "execute_result"
    }
   ],
   "source": [
    "#Display r2\n",
    "r_squared_2"
   ]
  },
  {
   "cell_type": "code",
   "execution_count": 84,
   "id": "1df6a08b",
   "metadata": {},
   "outputs": [
    {
     "data": {
      "text/html": [
       "<div>\n",
       "<style scoped>\n",
       "    .dataframe tbody tr th:only-of-type {\n",
       "        vertical-align: middle;\n",
       "    }\n",
       "\n",
       "    .dataframe tbody tr th {\n",
       "        vertical-align: top;\n",
       "    }\n",
       "\n",
       "    .dataframe thead th {\n",
       "        text-align: right;\n",
       "    }\n",
       "</style>\n",
       "<table border=\"1\" class=\"dataframe\">\n",
       "  <thead>\n",
       "    <tr style=\"text-align: right;\">\n",
       "      <th></th>\n",
       "      <th>BaseModel</th>\n",
       "      <th>GridSearchCV</th>\n",
       "      <th>RandomSearchCV</th>\n",
       "    </tr>\n",
       "  </thead>\n",
       "  <tbody>\n",
       "    <tr>\n",
       "      <th>mape</th>\n",
       "      <td>0.302</td>\n",
       "      <td>0.276</td>\n",
       "      <td>0.276</td>\n",
       "    </tr>\n",
       "    <tr>\n",
       "      <th>r2</th>\n",
       "      <td>0.821</td>\n",
       "      <td>0.835</td>\n",
       "      <td>0.834</td>\n",
       "    </tr>\n",
       "  </tbody>\n",
       "</table>\n",
       "</div>"
      ],
      "text/plain": [
       "      BaseModel  GridSearchCV  RandomSearchCV\n",
       "mape      0.302         0.276           0.276\n",
       "r2        0.821         0.835           0.834"
      ]
     },
     "execution_count": 84,
     "metadata": {},
     "output_type": "execute_result"
    }
   ],
   "source": [
    "#Lets combine all model together without MAE\n",
    "all_model = pd.DataFrame(\n",
    "{\n",
    "    \"mape\": [mape[\"lgb\"][0], mape_1, mape_2],\n",
    "    \"r2\": [r_squared[\"lgb\"][0], r_squared_1, r_squared_2]\n",
    "},\n",
    "    index=[\"BaseModel\", \"GridSearchCV\", \"RandomSearchCV\"]\n",
    ")\n",
    "\n",
    "#Display model\n",
    "all_model.T"
   ]
  },
  {
   "cell_type": "code",
   "execution_count": 85,
   "id": "526df93f",
   "metadata": {},
   "outputs": [
    {
     "data": {
      "image/png": "[encoded data removed]",
      "text/plain": [
       "<Figure size 640x480 with 1 Axes>"
      ]
     },
     "metadata": {},
     "output_type": "display_data"
    }
   ],
   "source": [
    "#Lets visualize our results now\n",
    "all_model.plot(kind=\"bar\");"
   ]
  },
  {
   "cell_type": "markdown",
   "id": "5ba69cea",
   "metadata": {},
   "source": [
    "### Observation\n",
    "Now we have successfully perform hyperparameter tunning using both `GridSearchCV and RandomSearchCV`. By comparing them, we can see that GridSearchCV selected RandomForestRegressor as the best algorithm with its best parameters.\n",
    "\n",
    "Now we are going to use this model into production. We will create an API out of this model using FastAPI but before we do that let us first save our model using pickle."
   ]
  },
  {
   "cell_type": "code",
   "execution_count": 88,
   "id": "0b868878",
   "metadata": {},
   "outputs": [],
   "source": [
    "#Save model\n",
    "pickle.dump(grid_search, open(\"../model/model.pkl\",\"wb\"))"
   ]
  },
  {
   "cell_type": "code",
   "execution_count": 89,
   "id": "afeed13f",
   "metadata": {},
   "outputs": [
    {
     "data": {
      "text/plain": [
       "array([3589.01420456])"
      ]
     },
     "execution_count": 89,
     "metadata": {},
     "output_type": "execute_result"
    }
   ],
   "source": [
    "#Load model to make prediction\n",
    "model = pickle.load(open(\"../model/model.pkl\",\"rb\"))\n",
    "\n",
    "#Make prediction\n",
    "model.predict([[0.0, 0.1, 0.0, 0.0, 1.0, 0.0, 0.0, 1.0,0.2,-0.374179, 0.086957]])"
   ]
  },
  {
   "cell_type": "markdown",
   "id": "124d253c",
   "metadata": {},
   "source": [
    "### Conclusion\n",
    "Okay so we have successfully been able to save, load and test our model. Now we are going to create an api out of this model using FastAPI and expose it to be consume by anyone."
   ]
  },
  {
   "cell_type": "code",
   "execution_count": 91,
   "id": "f65989a3",
   "metadata": {},
   "outputs": [
    {
     "data": {
      "text/html": [
       "<div>\n",
       "<style scoped>\n",
       "    .dataframe tbody tr th:only-of-type {\n",
       "        vertical-align: middle;\n",
       "    }\n",
       "\n",
       "    .dataframe tbody tr th {\n",
       "        vertical-align: top;\n",
       "    }\n",
       "\n",
       "    .dataframe thead th {\n",
       "        text-align: right;\n",
       "    }\n",
       "</style>\n",
       "<table border=\"1\" class=\"dataframe\">\n",
       "  <thead>\n",
       "    <tr style=\"text-align: right;\">\n",
       "      <th></th>\n",
       "      <th>x0_northeast</th>\n",
       "      <th>x0_northwest</th>\n",
       "      <th>x0_southeast</th>\n",
       "      <th>x0_southwest</th>\n",
       "      <th>x1_no</th>\n",
       "      <th>x1_yes</th>\n",
       "      <th>x2_female</th>\n",
       "      <th>x2_male</th>\n",
       "      <th>children</th>\n",
       "      <th>age</th>\n",
       "      <th>bmi</th>\n",
       "    </tr>\n",
       "  </thead>\n",
       "  <tbody>\n",
       "    <tr>\n",
       "      <th>0</th>\n",
       "      <td>0.0</td>\n",
       "      <td>0.0</td>\n",
       "      <td>1.0</td>\n",
       "      <td>0.0</td>\n",
       "      <td>1.0</td>\n",
       "      <td>0.0</td>\n",
       "      <td>1.0</td>\n",
       "      <td>0.0</td>\n",
       "      <td>0.2</td>\n",
       "      <td>-0.162656</td>\n",
       "      <td>0.304348</td>\n",
       "    </tr>\n",
       "    <tr>\n",
       "      <th>1</th>\n",
       "      <td>0.0</td>\n",
       "      <td>0.0</td>\n",
       "      <td>0.0</td>\n",
       "      <td>1.0</td>\n",
       "      <td>1.0</td>\n",
       "      <td>0.0</td>\n",
       "      <td>0.0</td>\n",
       "      <td>1.0</td>\n",
       "      <td>0.2</td>\n",
       "      <td>0.764412</td>\n",
       "      <td>0.108696</td>\n",
       "    </tr>\n",
       "    <tr>\n",
       "      <th>2</th>\n",
       "      <td>0.0</td>\n",
       "      <td>0.0</td>\n",
       "      <td>1.0</td>\n",
       "      <td>0.0</td>\n",
       "      <td>1.0</td>\n",
       "      <td>0.0</td>\n",
       "      <td>1.0</td>\n",
       "      <td>0.0</td>\n",
       "      <td>0.2</td>\n",
       "      <td>0.473567</td>\n",
       "      <td>0.608696</td>\n",
       "    </tr>\n",
       "    <tr>\n",
       "      <th>3</th>\n",
       "      <td>0.0</td>\n",
       "      <td>0.0</td>\n",
       "      <td>0.0</td>\n",
       "      <td>1.0</td>\n",
       "      <td>0.0</td>\n",
       "      <td>1.0</td>\n",
       "      <td>1.0</td>\n",
       "      <td>0.0</td>\n",
       "      <td>0.4</td>\n",
       "      <td>-0.640236</td>\n",
       "      <td>0.543478</td>\n",
       "    </tr>\n",
       "    <tr>\n",
       "      <th>4</th>\n",
       "      <td>0.0</td>\n",
       "      <td>0.0</td>\n",
       "      <td>0.0</td>\n",
       "      <td>1.0</td>\n",
       "      <td>1.0</td>\n",
       "      <td>0.0</td>\n",
       "      <td>1.0</td>\n",
       "      <td>0.0</td>\n",
       "      <td>0.0</td>\n",
       "      <td>1.127968</td>\n",
       "      <td>0.739130</td>\n",
       "    </tr>\n",
       "  </tbody>\n",
       "</table>\n",
       "</div>"
      ],
      "text/plain": [
       "   x0_northeast  x0_northwest  x0_southeast  x0_southwest  x1_no  x1_yes  \\\n",
       "0           0.0           0.0           1.0           0.0    1.0     0.0   \n",
       "1           0.0           0.0           0.0           1.0    1.0     0.0   \n",
       "2           0.0           0.0           1.0           0.0    1.0     0.0   \n",
       "3           0.0           0.0           0.0           1.0    0.0     1.0   \n",
       "4           0.0           0.0           0.0           1.0    1.0     0.0   \n",
       "\n",
       "   x2_female  x2_male  children       age       bmi  \n",
       "0        1.0      0.0       0.2 -0.162656  0.304348  \n",
       "1        0.0      1.0       0.2  0.764412  0.108696  \n",
       "2        1.0      0.0       0.2  0.473567  0.608696  \n",
       "3        1.0      0.0       0.4 -0.640236  0.543478  \n",
       "4        1.0      0.0       0.0  1.127968  0.739130  "
      ]
     },
     "execution_count": 91,
     "metadata": {},
     "output_type": "execute_result"
    }
   ],
   "source": [
    "xtrain_data.head()"
   ]
  },
  {
   "cell_type": "code",
   "execution_count": 146,
   "id": "336f140e",
   "metadata": {},
   "outputs": [
    {
     "data": {
      "text/html": [
       "<div>\n",
       "<style scoped>\n",
       "    .dataframe tbody tr th:only-of-type {\n",
       "        vertical-align: middle;\n",
       "    }\n",
       "\n",
       "    .dataframe tbody tr th {\n",
       "        vertical-align: top;\n",
       "    }\n",
       "\n",
       "    .dataframe thead th {\n",
       "        text-align: right;\n",
       "    }\n",
       "</style>\n",
       "<table border=\"1\" class=\"dataframe\">\n",
       "  <thead>\n",
       "    <tr style=\"text-align: right;\">\n",
       "      <th></th>\n",
       "      <th>age</th>\n",
       "      <th>sex</th>\n",
       "      <th>bmi</th>\n",
       "      <th>children</th>\n",
       "      <th>smoker</th>\n",
       "      <th>region</th>\n",
       "      <th>charges</th>\n",
       "    </tr>\n",
       "  </thead>\n",
       "  <tbody>\n",
       "    <tr>\n",
       "      <th>0</th>\n",
       "      <td>19</td>\n",
       "      <td>female</td>\n",
       "      <td>27.900</td>\n",
       "      <td>0</td>\n",
       "      <td>yes</td>\n",
       "      <td>southwest</td>\n",
       "      <td>16884.92400</td>\n",
       "    </tr>\n",
       "    <tr>\n",
       "      <th>1</th>\n",
       "      <td>18</td>\n",
       "      <td>male</td>\n",
       "      <td>33.770</td>\n",
       "      <td>1</td>\n",
       "      <td>no</td>\n",
       "      <td>southeast</td>\n",
       "      <td>1725.55230</td>\n",
       "    </tr>\n",
       "    <tr>\n",
       "      <th>2</th>\n",
       "      <td>28</td>\n",
       "      <td>male</td>\n",
       "      <td>33.000</td>\n",
       "      <td>3</td>\n",
       "      <td>no</td>\n",
       "      <td>southeast</td>\n",
       "      <td>4449.46200</td>\n",
       "    </tr>\n",
       "    <tr>\n",
       "      <th>3</th>\n",
       "      <td>33</td>\n",
       "      <td>male</td>\n",
       "      <td>22.705</td>\n",
       "      <td>0</td>\n",
       "      <td>no</td>\n",
       "      <td>northwest</td>\n",
       "      <td>21984.47061</td>\n",
       "    </tr>\n",
       "    <tr>\n",
       "      <th>4</th>\n",
       "      <td>32</td>\n",
       "      <td>male</td>\n",
       "      <td>28.880</td>\n",
       "      <td>0</td>\n",
       "      <td>no</td>\n",
       "      <td>northwest</td>\n",
       "      <td>3866.85520</td>\n",
       "    </tr>\n",
       "  </tbody>\n",
       "</table>\n",
       "</div>"
      ],
      "text/plain": [
       "   age     sex     bmi  children smoker     region      charges\n",
       "0   19  female  27.900         0    yes  southwest  16884.92400\n",
       "1   18    male  33.770         1     no  southeast   1725.55230\n",
       "2   28    male  33.000         3     no  southeast   4449.46200\n",
       "3   33    male  22.705         0     no  northwest  21984.47061\n",
       "4   32    male  28.880         0     no  northwest   3866.85520"
      ]
     },
     "execution_count": 146,
     "metadata": {},
     "output_type": "execute_result"
    }
   ],
   "source": [
    "#Display actual dataset\n",
    "df.head()"
   ]
  },
  {
   "cell_type": "code",
   "execution_count": 147,
   "id": "34aef049",
   "metadata": {},
   "outputs": [],
   "source": [
    "scl = StandardScaler()"
   ]
  },
  {
   "cell_type": "code",
   "execution_count": 155,
   "id": "66f31ed3",
   "metadata": {},
   "outputs": [],
   "source": [
    "res = scl.fit_transform([[690]])"
   ]
  },
  {
   "cell_type": "code",
   "execution_count": 156,
   "id": "d02f723f",
   "metadata": {},
   "outputs": [
    {
     "data": {
      "text/plain": [
       "array([[0.]])"
      ]
     },
     "execution_count": 156,
     "metadata": {},
     "output_type": "execute_result"
    }
   ],
   "source": [
    "res"
   ]
  },
  {
   "cell_type": "code",
   "execution_count": 165,
   "id": "98a1f3a8",
   "metadata": {},
   "outputs": [
    {
     "ename": "AttributeError",
     "evalue": "module 'numpy' has no attribute 'extend'",
     "output_type": "error",
     "traceback": [
      "\u001b[0;31m---------------------------------------------------------------------------\u001b[0m",
      "\u001b[0;31mAttributeError\u001b[0m                            Traceback (most recent call last)",
      "Cell \u001b[0;32mIn[165], line 1\u001b[0m\n\u001b[0;32m----> 1\u001b[0m \u001b[43mnp\u001b[49m\u001b[38;5;241;43m.\u001b[39;49m\u001b[43mextend\u001b[49m(res, \u001b[38;5;241m88\u001b[39m)\n",
      "File \u001b[0;32m~/Documents/projects/AI/ML/Medical.Cost/env/lib/python3.9/site-packages/numpy/__init__.py:315\u001b[0m, in \u001b[0;36m__getattr__\u001b[0;34m(attr)\u001b[0m\n",
      "\u001b[0;31mAttributeError\u001b[0m: module 'numpy' has no attribute 'extend'"
     ]
    }
   ],
   "source": [
    "np.extend(res, 88)"
   ]
  },
  {
   "cell_type": "code",
   "execution_count": null,
   "id": "102e223e",
   "metadata": {},
   "outputs": [],
   "source": []
  }
 ],
 "metadata": {
  "kernelspec": {
   "display_name": "Python 3 (ipykernel)",
   "language": "python",
   "name": "python3"
  },
  "language_info": {
   "codemirror_mode": {
    "name": "ipython",
    "version": 3
   },
   "file_extension": ".py",
   "mimetype": "text/x-python",
   "name": "python",
   "nbconvert_exporter": "python",
   "pygments_lexer": "ipython3",
   "version": "3.9.12"
  },
  "vscode": {
   "interpreter": {
    "hash": "f65d309ddcd86c04c3acf3726b48018b3ed4d8287d3ca14fd2ffc8ab4c745bb8"
   }
  }
 },
 "nbformat": 4,
 "nbformat_minor": 5
}
